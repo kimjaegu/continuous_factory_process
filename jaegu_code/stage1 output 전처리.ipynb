{
 "cells": [
  {
   "cell_type": "code",
   "execution_count": 2,
   "metadata": {},
   "outputs": [],
   "source": [
    "from IPython.core.interactiveshell import InteractiveShell\n",
    "InteractiveShell.ast_node_interactivity=\"all\"\n",
    "\n",
    "import pandas as pd\n",
    "import numpy as np\n",
    "import matplotlib.pyplot as plt\n",
    "%matplotlib inline\n",
    "\n",
    "from datetime import datetime"
   ]
  },
  {
   "cell_type": "code",
   "execution_count": 3,
   "metadata": {},
   "outputs": [
    {
     "data": {
      "text/html": [
       "<div>\n",
       "<style scoped>\n",
       "    .dataframe tbody tr th:only-of-type {\n",
       "        vertical-align: middle;\n",
       "    }\n",
       "\n",
       "    .dataframe tbody tr th {\n",
       "        vertical-align: top;\n",
       "    }\n",
       "\n",
       "    .dataframe thead th {\n",
       "        text-align: right;\n",
       "    }\n",
       "</style>\n",
       "<table border=\"1\" class=\"dataframe\">\n",
       "  <thead>\n",
       "    <tr style=\"text-align: right;\">\n",
       "      <th></th>\n",
       "      <th>time_stamp</th>\n",
       "      <th>AmbientConditions.AmbientHumidity.U.Actual</th>\n",
       "      <th>AmbientConditions.AmbientTemperature.U.Actual</th>\n",
       "      <th>Machine1.RawMaterial.Property1</th>\n",
       "      <th>Machine1.RawMaterial.Property2</th>\n",
       "      <th>Machine1.RawMaterial.Property3</th>\n",
       "      <th>Machine1.RawMaterial.Property4</th>\n",
       "      <th>Machine1.RawMaterialFeederParameter.U.Actual</th>\n",
       "      <th>Machine1.Zone1Temperature.C.Actual</th>\n",
       "      <th>Machine1.Zone2Temperature.C.Actual</th>\n",
       "      <th>...</th>\n",
       "      <th>Stage2.Output.Measurement10.U.Actual</th>\n",
       "      <th>Stage2.Output.Measurement10.U.Setpoint</th>\n",
       "      <th>Stage2.Output.Measurement11.U.Actual</th>\n",
       "      <th>Stage2.Output.Measurement11.U.Setpoint</th>\n",
       "      <th>Stage2.Output.Measurement12.U.Actual</th>\n",
       "      <th>Stage2.Output.Measurement12.U.Setpoint</th>\n",
       "      <th>Stage2.Output.Measurement13.U.Actual</th>\n",
       "      <th>Stage2.Output.Measurement13.U.Setpoint</th>\n",
       "      <th>Stage2.Output.Measurement14.U.Actual</th>\n",
       "      <th>Stage2.Output.Measurement14.U.Setpoint</th>\n",
       "    </tr>\n",
       "  </thead>\n",
       "  <tbody>\n",
       "    <tr>\n",
       "      <th>0</th>\n",
       "      <td>2019-03-06 10:52:33</td>\n",
       "      <td>17.24</td>\n",
       "      <td>23.53</td>\n",
       "      <td>11.54</td>\n",
       "      <td>200</td>\n",
       "      <td>963.0</td>\n",
       "      <td>247</td>\n",
       "      <td>1241.26</td>\n",
       "      <td>72.0</td>\n",
       "      <td>72.3</td>\n",
       "      <td>...</td>\n",
       "      <td>0.0</td>\n",
       "      <td>7.93</td>\n",
       "      <td>0.0</td>\n",
       "      <td>5.65</td>\n",
       "      <td>0.0</td>\n",
       "      <td>1.85</td>\n",
       "      <td>0.0</td>\n",
       "      <td>2.89</td>\n",
       "      <td>0.0</td>\n",
       "      <td>11.71</td>\n",
       "    </tr>\n",
       "    <tr>\n",
       "      <th>1</th>\n",
       "      <td>2019-03-06 10:52:34</td>\n",
       "      <td>17.24</td>\n",
       "      <td>23.53</td>\n",
       "      <td>11.54</td>\n",
       "      <td>200</td>\n",
       "      <td>963.0</td>\n",
       "      <td>247</td>\n",
       "      <td>1246.09</td>\n",
       "      <td>72.0</td>\n",
       "      <td>72.3</td>\n",
       "      <td>...</td>\n",
       "      <td>0.0</td>\n",
       "      <td>7.93</td>\n",
       "      <td>0.0</td>\n",
       "      <td>5.65</td>\n",
       "      <td>0.0</td>\n",
       "      <td>1.85</td>\n",
       "      <td>0.0</td>\n",
       "      <td>2.89</td>\n",
       "      <td>0.0</td>\n",
       "      <td>11.71</td>\n",
       "    </tr>\n",
       "    <tr>\n",
       "      <th>2</th>\n",
       "      <td>2019-03-06 10:52:35</td>\n",
       "      <td>17.24</td>\n",
       "      <td>23.53</td>\n",
       "      <td>11.54</td>\n",
       "      <td>200</td>\n",
       "      <td>963.0</td>\n",
       "      <td>247</td>\n",
       "      <td>1246.29</td>\n",
       "      <td>72.0</td>\n",
       "      <td>72.3</td>\n",
       "      <td>...</td>\n",
       "      <td>0.0</td>\n",
       "      <td>7.93</td>\n",
       "      <td>0.0</td>\n",
       "      <td>5.65</td>\n",
       "      <td>0.0</td>\n",
       "      <td>1.85</td>\n",
       "      <td>0.0</td>\n",
       "      <td>2.89</td>\n",
       "      <td>0.0</td>\n",
       "      <td>11.71</td>\n",
       "    </tr>\n",
       "  </tbody>\n",
       "</table>\n",
       "<p>3 rows × 116 columns</p>\n",
       "</div>"
      ],
      "text/plain": [
       "            time_stamp  AmbientConditions.AmbientHumidity.U.Actual  \\\n",
       "0  2019-03-06 10:52:33                                       17.24   \n",
       "1  2019-03-06 10:52:34                                       17.24   \n",
       "2  2019-03-06 10:52:35                                       17.24   \n",
       "\n",
       "   AmbientConditions.AmbientTemperature.U.Actual  \\\n",
       "0                                          23.53   \n",
       "1                                          23.53   \n",
       "2                                          23.53   \n",
       "\n",
       "   Machine1.RawMaterial.Property1  Machine1.RawMaterial.Property2  \\\n",
       "0                           11.54                             200   \n",
       "1                           11.54                             200   \n",
       "2                           11.54                             200   \n",
       "\n",
       "   Machine1.RawMaterial.Property3  Machine1.RawMaterial.Property4  \\\n",
       "0                           963.0                             247   \n",
       "1                           963.0                             247   \n",
       "2                           963.0                             247   \n",
       "\n",
       "   Machine1.RawMaterialFeederParameter.U.Actual  \\\n",
       "0                                       1241.26   \n",
       "1                                       1246.09   \n",
       "2                                       1246.29   \n",
       "\n",
       "   Machine1.Zone1Temperature.C.Actual  Machine1.Zone2Temperature.C.Actual  \\\n",
       "0                                72.0                                72.3   \n",
       "1                                72.0                                72.3   \n",
       "2                                72.0                                72.3   \n",
       "\n",
       "   ...  Stage2.Output.Measurement10.U.Actual  \\\n",
       "0  ...                                   0.0   \n",
       "1  ...                                   0.0   \n",
       "2  ...                                   0.0   \n",
       "\n",
       "   Stage2.Output.Measurement10.U.Setpoint  \\\n",
       "0                                    7.93   \n",
       "1                                    7.93   \n",
       "2                                    7.93   \n",
       "\n",
       "   Stage2.Output.Measurement11.U.Actual  \\\n",
       "0                                   0.0   \n",
       "1                                   0.0   \n",
       "2                                   0.0   \n",
       "\n",
       "   Stage2.Output.Measurement11.U.Setpoint  \\\n",
       "0                                    5.65   \n",
       "1                                    5.65   \n",
       "2                                    5.65   \n",
       "\n",
       "   Stage2.Output.Measurement12.U.Actual  \\\n",
       "0                                   0.0   \n",
       "1                                   0.0   \n",
       "2                                   0.0   \n",
       "\n",
       "   Stage2.Output.Measurement12.U.Setpoint  \\\n",
       "0                                    1.85   \n",
       "1                                    1.85   \n",
       "2                                    1.85   \n",
       "\n",
       "   Stage2.Output.Measurement13.U.Actual  \\\n",
       "0                                   0.0   \n",
       "1                                   0.0   \n",
       "2                                   0.0   \n",
       "\n",
       "   Stage2.Output.Measurement13.U.Setpoint  \\\n",
       "0                                    2.89   \n",
       "1                                    2.89   \n",
       "2                                    2.89   \n",
       "\n",
       "   Stage2.Output.Measurement14.U.Actual  \\\n",
       "0                                   0.0   \n",
       "1                                   0.0   \n",
       "2                                   0.0   \n",
       "\n",
       "   Stage2.Output.Measurement14.U.Setpoint  \n",
       "0                                   11.71  \n",
       "1                                   11.71  \n",
       "2                                   11.71  \n",
       "\n",
       "[3 rows x 116 columns]"
      ]
     },
     "execution_count": 3,
     "metadata": {},
     "output_type": "execute_result"
    }
   ],
   "source": [
    "data = pd.read_csv(\"../Data/continuous_factory_process.csv\")\n",
    "data.head(3)"
   ]
  },
  {
   "cell_type": "code",
   "execution_count": 4,
   "metadata": {},
   "outputs": [
    {
     "data": {
      "text/html": [
       "<div>\n",
       "<style scoped>\n",
       "    .dataframe tbody tr th:only-of-type {\n",
       "        vertical-align: middle;\n",
       "    }\n",
       "\n",
       "    .dataframe tbody tr th {\n",
       "        vertical-align: top;\n",
       "    }\n",
       "\n",
       "    .dataframe thead th {\n",
       "        text-align: right;\n",
       "    }\n",
       "</style>\n",
       "<table border=\"1\" class=\"dataframe\">\n",
       "  <thead>\n",
       "    <tr style=\"text-align: right;\">\n",
       "      <th></th>\n",
       "      <th>time_stamp</th>\n",
       "      <th>AmbientConditions.AmbientHumidity.U.Actual</th>\n",
       "      <th>AmbientConditions.AmbientTemperature.U.Actual</th>\n",
       "      <th>Machine1.RawMaterial.Property1</th>\n",
       "      <th>Machine1.RawMaterial.Property2</th>\n",
       "      <th>Machine1.RawMaterial.Property3</th>\n",
       "      <th>Machine1.RawMaterial.Property4</th>\n",
       "      <th>Machine1.RawMaterialFeederParameter.U.Actual</th>\n",
       "      <th>Machine1.Zone1Temperature.C.Actual</th>\n",
       "      <th>Machine1.Zone2Temperature.C.Actual</th>\n",
       "      <th>...</th>\n",
       "      <th>Stage2.Output.Measurement10.U.Actual</th>\n",
       "      <th>Stage2.Output.Measurement10.U.Setpoint</th>\n",
       "      <th>Stage2.Output.Measurement11.U.Actual</th>\n",
       "      <th>Stage2.Output.Measurement11.U.Setpoint</th>\n",
       "      <th>Stage2.Output.Measurement12.U.Actual</th>\n",
       "      <th>Stage2.Output.Measurement12.U.Setpoint</th>\n",
       "      <th>Stage2.Output.Measurement13.U.Actual</th>\n",
       "      <th>Stage2.Output.Measurement13.U.Setpoint</th>\n",
       "      <th>Stage2.Output.Measurement14.U.Actual</th>\n",
       "      <th>Stage2.Output.Measurement14.U.Setpoint</th>\n",
       "    </tr>\n",
       "  </thead>\n",
       "  <tbody>\n",
       "    <tr>\n",
       "      <th>0</th>\n",
       "      <td>2019-03-06 10:52:33</td>\n",
       "      <td>17.24</td>\n",
       "      <td>23.53</td>\n",
       "      <td>11.54</td>\n",
       "      <td>200</td>\n",
       "      <td>963.0</td>\n",
       "      <td>247</td>\n",
       "      <td>1241.26</td>\n",
       "      <td>72.0</td>\n",
       "      <td>72.3</td>\n",
       "      <td>...</td>\n",
       "      <td>0.0</td>\n",
       "      <td>7.93</td>\n",
       "      <td>0.0</td>\n",
       "      <td>5.65</td>\n",
       "      <td>0.0</td>\n",
       "      <td>1.85</td>\n",
       "      <td>0.0</td>\n",
       "      <td>2.89</td>\n",
       "      <td>0.0</td>\n",
       "      <td>11.71</td>\n",
       "    </tr>\n",
       "    <tr>\n",
       "      <th>1</th>\n",
       "      <td>2019-03-06 10:52:34</td>\n",
       "      <td>17.24</td>\n",
       "      <td>23.53</td>\n",
       "      <td>11.54</td>\n",
       "      <td>200</td>\n",
       "      <td>963.0</td>\n",
       "      <td>247</td>\n",
       "      <td>1246.09</td>\n",
       "      <td>72.0</td>\n",
       "      <td>72.3</td>\n",
       "      <td>...</td>\n",
       "      <td>0.0</td>\n",
       "      <td>7.93</td>\n",
       "      <td>0.0</td>\n",
       "      <td>5.65</td>\n",
       "      <td>0.0</td>\n",
       "      <td>1.85</td>\n",
       "      <td>0.0</td>\n",
       "      <td>2.89</td>\n",
       "      <td>0.0</td>\n",
       "      <td>11.71</td>\n",
       "    </tr>\n",
       "    <tr>\n",
       "      <th>2</th>\n",
       "      <td>2019-03-06 10:52:35</td>\n",
       "      <td>17.24</td>\n",
       "      <td>23.53</td>\n",
       "      <td>11.54</td>\n",
       "      <td>200</td>\n",
       "      <td>963.0</td>\n",
       "      <td>247</td>\n",
       "      <td>1246.29</td>\n",
       "      <td>72.0</td>\n",
       "      <td>72.3</td>\n",
       "      <td>...</td>\n",
       "      <td>0.0</td>\n",
       "      <td>7.93</td>\n",
       "      <td>0.0</td>\n",
       "      <td>5.65</td>\n",
       "      <td>0.0</td>\n",
       "      <td>1.85</td>\n",
       "      <td>0.0</td>\n",
       "      <td>2.89</td>\n",
       "      <td>0.0</td>\n",
       "      <td>11.71</td>\n",
       "    </tr>\n",
       "  </tbody>\n",
       "</table>\n",
       "<p>3 rows × 116 columns</p>\n",
       "</div>"
      ],
      "text/plain": [
       "            time_stamp  AmbientConditions.AmbientHumidity.U.Actual  \\\n",
       "0  2019-03-06 10:52:33                                       17.24   \n",
       "1  2019-03-06 10:52:34                                       17.24   \n",
       "2  2019-03-06 10:52:35                                       17.24   \n",
       "\n",
       "   AmbientConditions.AmbientTemperature.U.Actual  \\\n",
       "0                                          23.53   \n",
       "1                                          23.53   \n",
       "2                                          23.53   \n",
       "\n",
       "   Machine1.RawMaterial.Property1  Machine1.RawMaterial.Property2  \\\n",
       "0                           11.54                             200   \n",
       "1                           11.54                             200   \n",
       "2                           11.54                             200   \n",
       "\n",
       "   Machine1.RawMaterial.Property3  Machine1.RawMaterial.Property4  \\\n",
       "0                           963.0                             247   \n",
       "1                           963.0                             247   \n",
       "2                           963.0                             247   \n",
       "\n",
       "   Machine1.RawMaterialFeederParameter.U.Actual  \\\n",
       "0                                       1241.26   \n",
       "1                                       1246.09   \n",
       "2                                       1246.29   \n",
       "\n",
       "   Machine1.Zone1Temperature.C.Actual  Machine1.Zone2Temperature.C.Actual  \\\n",
       "0                                72.0                                72.3   \n",
       "1                                72.0                                72.3   \n",
       "2                                72.0                                72.3   \n",
       "\n",
       "   ...  Stage2.Output.Measurement10.U.Actual  \\\n",
       "0  ...                                   0.0   \n",
       "1  ...                                   0.0   \n",
       "2  ...                                   0.0   \n",
       "\n",
       "   Stage2.Output.Measurement10.U.Setpoint  \\\n",
       "0                                    7.93   \n",
       "1                                    7.93   \n",
       "2                                    7.93   \n",
       "\n",
       "   Stage2.Output.Measurement11.U.Actual  \\\n",
       "0                                   0.0   \n",
       "1                                   0.0   \n",
       "2                                   0.0   \n",
       "\n",
       "   Stage2.Output.Measurement11.U.Setpoint  \\\n",
       "0                                    5.65   \n",
       "1                                    5.65   \n",
       "2                                    5.65   \n",
       "\n",
       "   Stage2.Output.Measurement12.U.Actual  \\\n",
       "0                                   0.0   \n",
       "1                                   0.0   \n",
       "2                                   0.0   \n",
       "\n",
       "   Stage2.Output.Measurement12.U.Setpoint  \\\n",
       "0                                    1.85   \n",
       "1                                    1.85   \n",
       "2                                    1.85   \n",
       "\n",
       "   Stage2.Output.Measurement13.U.Actual  \\\n",
       "0                                   0.0   \n",
       "1                                   0.0   \n",
       "2                                   0.0   \n",
       "\n",
       "   Stage2.Output.Measurement13.U.Setpoint  \\\n",
       "0                                    2.89   \n",
       "1                                    2.89   \n",
       "2                                    2.89   \n",
       "\n",
       "   Stage2.Output.Measurement14.U.Actual  \\\n",
       "0                                   0.0   \n",
       "1                                   0.0   \n",
       "2                                   0.0   \n",
       "\n",
       "   Stage2.Output.Measurement14.U.Setpoint  \n",
       "0                                   11.71  \n",
       "1                                   11.71  \n",
       "2                                   11.71  \n",
       "\n",
       "[3 rows x 116 columns]"
      ]
     },
     "execution_count": 4,
     "metadata": {},
     "output_type": "execute_result"
    }
   ],
   "source": [
    "df = data.copy()\n",
    "df.head(3)"
   ]
  },
  {
   "cell_type": "code",
   "execution_count": 5,
   "metadata": {},
   "outputs": [],
   "source": [
    "# X, y 분할\n",
    "X1, y1, X2, y2 = df.iloc[:, :42], df.iloc[:, 42:72], df.iloc[:, 72:86], df.iloc[:, 86:]"
   ]
  },
  {
   "cell_type": "code",
   "execution_count": 6,
   "metadata": {},
   "outputs": [],
   "source": [
    "# time_stamp 데이터 타입 string -> timestamp\n",
    "df[\"time_stamp\"] = pd.to_datetime(df[\"time_stamp\"])"
   ]
  },
  {
   "cell_type": "markdown",
   "metadata": {},
   "source": [
    "## Stage1 output0"
   ]
  },
  {
   "cell_type": "code",
   "execution_count": 7,
   "metadata": {},
   "outputs": [],
   "source": [
    "df0=df.copy()"
   ]
  },
  {
   "cell_type": "code",
   "execution_count": 8,
   "metadata": {},
   "outputs": [
    {
     "data": {
      "text/plain": [
       "20.88"
      ]
     },
     "execution_count": 8,
     "metadata": {},
     "output_type": "execute_result"
    },
    {
     "data": {
      "text/plain": [
       "0.0"
      ]
     },
     "execution_count": 8,
     "metadata": {},
     "output_type": "execute_result"
    },
    {
     "data": {
      "text/plain": [
       "12.97"
      ]
     },
     "execution_count": 8,
     "metadata": {},
     "output_type": "execute_result"
    },
    {
     "data": {
      "text/plain": [
       "13.75"
      ]
     },
     "execution_count": 8,
     "metadata": {},
     "output_type": "execute_result"
    },
    {
     "data": {
      "text/plain": [
       "0.0"
      ]
     },
     "execution_count": 8,
     "metadata": {},
     "output_type": "execute_result"
    },
    {
     "data": {
      "text/plain": [
       "13.75"
      ]
     },
     "execution_count": 8,
     "metadata": {},
     "output_type": "execute_result"
    }
   ],
   "source": [
    "y1[\"Stage1.Output.Measurement0.U.Actual\"].max()\n",
    "y1[\"Stage1.Output.Measurement0.U.Actual\"].min()\n",
    "y1[\"Stage1.Output.Measurement0.U.Actual\"].median()\n",
    "y1[\"Stage1.Output.Measurement0.U.Setpoint\"].max()\n",
    "y1[\"Stage1.Output.Measurement0.U.Setpoint\"].min()\n",
    "y1[\"Stage1.Output.Measurement0.U.Setpoint\"].median()"
   ]
  },
  {
   "cell_type": "code",
   "execution_count": 9,
   "metadata": {},
   "outputs": [],
   "source": [
    "# 이상치제거\n",
    "df= pd.concat([df[:9655], df[9681:]])"
   ]
  },
  {
   "cell_type": "code",
   "execution_count": 10,
   "metadata": {},
   "outputs": [
    {
     "data": {
      "text/plain": [
       "[<matplotlib.lines.Line2D at 0x18399e86400>]"
      ]
     },
     "execution_count": 10,
     "metadata": {},
     "output_type": "execute_result"
    },
    {
     "data": {
      "text/plain": [
       "[<matplotlib.lines.Line2D at 0x18399e86790>]"
      ]
     },
     "execution_count": 10,
     "metadata": {},
     "output_type": "execute_result"
    },
    {
     "data": {
      "image/png": "[encoded data removed]",
      "text/plain": [
       "<Figure size 432x288 with 1 Axes>"
      ]
     },
     "metadata": {
      "needs_background": "light"
     },
     "output_type": "display_data"
    }
   ],
   "source": [
    "plt.plot(df0[\"Stage1.Output.Measurement0.U.Actual\"].loc[y1[\"Stage1.Output.Measurement0.U.Actual\"] > 1], \"r\")\n",
    "plt.plot(df0[\"Stage1.Output.Measurement0.U.Setpoint\"].loc[y1[\"Stage1.Output.Measurement0.U.Actual\"] > 1], \"b\")"
   ]
  },
  {
   "cell_type": "code",
   "execution_count": 11,
   "metadata": {},
   "outputs": [],
   "source": [
    "# 12.5 보다 작은 데이터 제거"
   ]
  },
  {
   "cell_type": "code",
   "execution_count": 12,
   "metadata": {},
   "outputs": [
    {
     "data": {
      "text/plain": [
       "[<matplotlib.lines.Line2D at 0x18399f67bb0>]"
      ]
     },
     "execution_count": 12,
     "metadata": {},
     "output_type": "execute_result"
    },
    {
     "data": {
      "text/plain": [
       "[<matplotlib.lines.Line2D at 0x18399f67f40>]"
      ]
     },
     "execution_count": 12,
     "metadata": {},
     "output_type": "execute_result"
    },
    {
     "data": {
      "image/png": "[encoded data removed]",
      "text/plain": [
       "<Figure size 432x288 with 1 Axes>"
      ]
     },
     "metadata": {
      "needs_background": "light"
     },
     "output_type": "display_data"
    }
   ],
   "source": [
    "plt.plot(df0[\"Stage1.Output.Measurement0.U.Actual\"].loc[y1[\"Stage1.Output.Measurement0.U.Actual\"] > 12.5], \"r\")\n",
    "plt.plot(df0[\"Stage1.Output.Measurement0.U.Setpoint\"].loc[y1[\"Stage1.Output.Measurement0.U.Actual\"] > 12.5], \"b\")"
   ]
  },
  {
   "cell_type": "code",
   "execution_count": 13,
   "metadata": {},
   "outputs": [
    {
     "data": {
      "text/html": [
       "<div>\n",
       "<style scoped>\n",
       "    .dataframe tbody tr th:only-of-type {\n",
       "        vertical-align: middle;\n",
       "    }\n",
       "\n",
       "    .dataframe tbody tr th {\n",
       "        vertical-align: top;\n",
       "    }\n",
       "\n",
       "    .dataframe thead th {\n",
       "        text-align: right;\n",
       "    }\n",
       "</style>\n",
       "<table border=\"1\" class=\"dataframe\">\n",
       "  <thead>\n",
       "    <tr style=\"text-align: right;\">\n",
       "      <th></th>\n",
       "      <th>time_stamp</th>\n",
       "      <th>AmbientConditions.AmbientHumidity.U.Actual</th>\n",
       "      <th>AmbientConditions.AmbientTemperature.U.Actual</th>\n",
       "      <th>Machine1.RawMaterial.Property1</th>\n",
       "      <th>Machine1.RawMaterial.Property2</th>\n",
       "      <th>Machine1.RawMaterial.Property3</th>\n",
       "      <th>Machine1.RawMaterial.Property4</th>\n",
       "      <th>Machine1.RawMaterialFeederParameter.U.Actual</th>\n",
       "      <th>Machine1.Zone1Temperature.C.Actual</th>\n",
       "      <th>Machine1.Zone2Temperature.C.Actual</th>\n",
       "      <th>...</th>\n",
       "      <th>Stage2.Output.Measurement10.U.Actual</th>\n",
       "      <th>Stage2.Output.Measurement10.U.Setpoint</th>\n",
       "      <th>Stage2.Output.Measurement11.U.Actual</th>\n",
       "      <th>Stage2.Output.Measurement11.U.Setpoint</th>\n",
       "      <th>Stage2.Output.Measurement12.U.Actual</th>\n",
       "      <th>Stage2.Output.Measurement12.U.Setpoint</th>\n",
       "      <th>Stage2.Output.Measurement13.U.Actual</th>\n",
       "      <th>Stage2.Output.Measurement13.U.Setpoint</th>\n",
       "      <th>Stage2.Output.Measurement14.U.Actual</th>\n",
       "      <th>Stage2.Output.Measurement14.U.Setpoint</th>\n",
       "    </tr>\n",
       "  </thead>\n",
       "  <tbody>\n",
       "    <tr>\n",
       "      <th>0</th>\n",
       "      <td>2019-03-06 10:52:33</td>\n",
       "      <td>17.24</td>\n",
       "      <td>23.53</td>\n",
       "      <td>11.54</td>\n",
       "      <td>200</td>\n",
       "      <td>963.00</td>\n",
       "      <td>247</td>\n",
       "      <td>1241.26</td>\n",
       "      <td>72.0</td>\n",
       "      <td>72.3</td>\n",
       "      <td>...</td>\n",
       "      <td>0.00</td>\n",
       "      <td>7.93</td>\n",
       "      <td>0.00</td>\n",
       "      <td>5.65</td>\n",
       "      <td>0.00</td>\n",
       "      <td>1.85</td>\n",
       "      <td>0.00</td>\n",
       "      <td>2.89</td>\n",
       "      <td>0.00</td>\n",
       "      <td>11.71</td>\n",
       "    </tr>\n",
       "    <tr>\n",
       "      <th>6</th>\n",
       "      <td>2019-03-06 10:52:39</td>\n",
       "      <td>17.24</td>\n",
       "      <td>23.53</td>\n",
       "      <td>11.54</td>\n",
       "      <td>200</td>\n",
       "      <td>963.00</td>\n",
       "      <td>247</td>\n",
       "      <td>1306.38</td>\n",
       "      <td>72.1</td>\n",
       "      <td>72.4</td>\n",
       "      <td>...</td>\n",
       "      <td>0.00</td>\n",
       "      <td>7.93</td>\n",
       "      <td>0.00</td>\n",
       "      <td>5.65</td>\n",
       "      <td>0.00</td>\n",
       "      <td>1.85</td>\n",
       "      <td>0.00</td>\n",
       "      <td>2.89</td>\n",
       "      <td>0.00</td>\n",
       "      <td>11.71</td>\n",
       "    </tr>\n",
       "    <tr>\n",
       "      <th>7</th>\n",
       "      <td>2019-03-06 10:52:40</td>\n",
       "      <td>17.24</td>\n",
       "      <td>23.53</td>\n",
       "      <td>11.54</td>\n",
       "      <td>200</td>\n",
       "      <td>963.00</td>\n",
       "      <td>247</td>\n",
       "      <td>1296.13</td>\n",
       "      <td>72.1</td>\n",
       "      <td>72.4</td>\n",
       "      <td>...</td>\n",
       "      <td>0.00</td>\n",
       "      <td>7.93</td>\n",
       "      <td>0.00</td>\n",
       "      <td>5.65</td>\n",
       "      <td>0.00</td>\n",
       "      <td>1.85</td>\n",
       "      <td>0.00</td>\n",
       "      <td>2.89</td>\n",
       "      <td>0.00</td>\n",
       "      <td>11.71</td>\n",
       "    </tr>\n",
       "    <tr>\n",
       "      <th>16</th>\n",
       "      <td>2019-03-06 10:52:49</td>\n",
       "      <td>17.24</td>\n",
       "      <td>23.53</td>\n",
       "      <td>11.54</td>\n",
       "      <td>200</td>\n",
       "      <td>963.00</td>\n",
       "      <td>247</td>\n",
       "      <td>1179.70</td>\n",
       "      <td>72.1</td>\n",
       "      <td>72.5</td>\n",
       "      <td>...</td>\n",
       "      <td>0.00</td>\n",
       "      <td>7.93</td>\n",
       "      <td>0.00</td>\n",
       "      <td>5.65</td>\n",
       "      <td>0.00</td>\n",
       "      <td>1.85</td>\n",
       "      <td>0.00</td>\n",
       "      <td>2.89</td>\n",
       "      <td>0.00</td>\n",
       "      <td>11.71</td>\n",
       "    </tr>\n",
       "    <tr>\n",
       "      <th>17</th>\n",
       "      <td>2019-03-06 10:52:50</td>\n",
       "      <td>17.24</td>\n",
       "      <td>23.53</td>\n",
       "      <td>11.54</td>\n",
       "      <td>200</td>\n",
       "      <td>963.00</td>\n",
       "      <td>247</td>\n",
       "      <td>1222.09</td>\n",
       "      <td>72.1</td>\n",
       "      <td>72.5</td>\n",
       "      <td>...</td>\n",
       "      <td>0.00</td>\n",
       "      <td>7.93</td>\n",
       "      <td>0.00</td>\n",
       "      <td>5.65</td>\n",
       "      <td>0.00</td>\n",
       "      <td>1.85</td>\n",
       "      <td>0.00</td>\n",
       "      <td>2.89</td>\n",
       "      <td>0.00</td>\n",
       "      <td>11.71</td>\n",
       "    </tr>\n",
       "    <tr>\n",
       "      <th>...</th>\n",
       "      <td>...</td>\n",
       "      <td>...</td>\n",
       "      <td>...</td>\n",
       "      <td>...</td>\n",
       "      <td>...</td>\n",
       "      <td>...</td>\n",
       "      <td>...</td>\n",
       "      <td>...</td>\n",
       "      <td>...</td>\n",
       "      <td>...</td>\n",
       "      <td>...</td>\n",
       "      <td>...</td>\n",
       "      <td>...</td>\n",
       "      <td>...</td>\n",
       "      <td>...</td>\n",
       "      <td>...</td>\n",
       "      <td>...</td>\n",
       "      <td>...</td>\n",
       "      <td>...</td>\n",
       "      <td>...</td>\n",
       "      <td>...</td>\n",
       "    </tr>\n",
       "    <tr>\n",
       "      <th>14083</th>\n",
       "      <td>2019-03-06 14:47:16</td>\n",
       "      <td>13.84</td>\n",
       "      <td>24.43</td>\n",
       "      <td>12.22</td>\n",
       "      <td>201</td>\n",
       "      <td>1048.06</td>\n",
       "      <td>252</td>\n",
       "      <td>1263.76</td>\n",
       "      <td>72.0</td>\n",
       "      <td>71.8</td>\n",
       "      <td>...</td>\n",
       "      <td>7.87</td>\n",
       "      <td>7.93</td>\n",
       "      <td>5.53</td>\n",
       "      <td>5.65</td>\n",
       "      <td>2.07</td>\n",
       "      <td>1.85</td>\n",
       "      <td>3.80</td>\n",
       "      <td>2.89</td>\n",
       "      <td>7.56</td>\n",
       "      <td>11.71</td>\n",
       "    </tr>\n",
       "    <tr>\n",
       "      <th>14084</th>\n",
       "      <td>2019-03-06 14:47:17</td>\n",
       "      <td>13.84</td>\n",
       "      <td>24.43</td>\n",
       "      <td>12.22</td>\n",
       "      <td>201</td>\n",
       "      <td>1048.06</td>\n",
       "      <td>252</td>\n",
       "      <td>1255.42</td>\n",
       "      <td>72.0</td>\n",
       "      <td>71.8</td>\n",
       "      <td>...</td>\n",
       "      <td>7.85</td>\n",
       "      <td>7.93</td>\n",
       "      <td>5.48</td>\n",
       "      <td>5.65</td>\n",
       "      <td>2.01</td>\n",
       "      <td>1.85</td>\n",
       "      <td>3.79</td>\n",
       "      <td>2.89</td>\n",
       "      <td>7.76</td>\n",
       "      <td>11.71</td>\n",
       "    </tr>\n",
       "    <tr>\n",
       "      <th>14085</th>\n",
       "      <td>2019-03-06 14:47:18</td>\n",
       "      <td>13.84</td>\n",
       "      <td>24.43</td>\n",
       "      <td>12.22</td>\n",
       "      <td>201</td>\n",
       "      <td>1048.06</td>\n",
       "      <td>252</td>\n",
       "      <td>1257.52</td>\n",
       "      <td>72.0</td>\n",
       "      <td>71.8</td>\n",
       "      <td>...</td>\n",
       "      <td>7.93</td>\n",
       "      <td>7.93</td>\n",
       "      <td>5.54</td>\n",
       "      <td>5.65</td>\n",
       "      <td>2.06</td>\n",
       "      <td>1.85</td>\n",
       "      <td>3.83</td>\n",
       "      <td>2.89</td>\n",
       "      <td>7.66</td>\n",
       "      <td>11.71</td>\n",
       "    </tr>\n",
       "    <tr>\n",
       "      <th>14086</th>\n",
       "      <td>2019-03-06 14:47:19</td>\n",
       "      <td>13.84</td>\n",
       "      <td>24.43</td>\n",
       "      <td>12.22</td>\n",
       "      <td>201</td>\n",
       "      <td>1048.06</td>\n",
       "      <td>252</td>\n",
       "      <td>1261.99</td>\n",
       "      <td>72.0</td>\n",
       "      <td>71.9</td>\n",
       "      <td>...</td>\n",
       "      <td>7.85</td>\n",
       "      <td>7.93</td>\n",
       "      <td>5.51</td>\n",
       "      <td>5.65</td>\n",
       "      <td>2.05</td>\n",
       "      <td>1.85</td>\n",
       "      <td>3.83</td>\n",
       "      <td>2.89</td>\n",
       "      <td>7.87</td>\n",
       "      <td>11.71</td>\n",
       "    </tr>\n",
       "    <tr>\n",
       "      <th>14087</th>\n",
       "      <td>2019-03-06 14:47:20</td>\n",
       "      <td>13.84</td>\n",
       "      <td>24.43</td>\n",
       "      <td>12.22</td>\n",
       "      <td>201</td>\n",
       "      <td>1048.06</td>\n",
       "      <td>252</td>\n",
       "      <td>1257.40</td>\n",
       "      <td>72.0</td>\n",
       "      <td>71.9</td>\n",
       "      <td>...</td>\n",
       "      <td>7.85</td>\n",
       "      <td>7.93</td>\n",
       "      <td>5.51</td>\n",
       "      <td>5.65</td>\n",
       "      <td>2.05</td>\n",
       "      <td>1.85</td>\n",
       "      <td>3.83</td>\n",
       "      <td>2.89</td>\n",
       "      <td>7.87</td>\n",
       "      <td>11.71</td>\n",
       "    </tr>\n",
       "  </tbody>\n",
       "</table>\n",
       "<p>13988 rows × 116 columns</p>\n",
       "</div>"
      ],
      "text/plain": [
       "               time_stamp  AmbientConditions.AmbientHumidity.U.Actual  \\\n",
       "0     2019-03-06 10:52:33                                       17.24   \n",
       "6     2019-03-06 10:52:39                                       17.24   \n",
       "7     2019-03-06 10:52:40                                       17.24   \n",
       "16    2019-03-06 10:52:49                                       17.24   \n",
       "17    2019-03-06 10:52:50                                       17.24   \n",
       "...                   ...                                         ...   \n",
       "14083 2019-03-06 14:47:16                                       13.84   \n",
       "14084 2019-03-06 14:47:17                                       13.84   \n",
       "14085 2019-03-06 14:47:18                                       13.84   \n",
       "14086 2019-03-06 14:47:19                                       13.84   \n",
       "14087 2019-03-06 14:47:20                                       13.84   \n",
       "\n",
       "       AmbientConditions.AmbientTemperature.U.Actual  \\\n",
       "0                                              23.53   \n",
       "6                                              23.53   \n",
       "7                                              23.53   \n",
       "16                                             23.53   \n",
       "17                                             23.53   \n",
       "...                                              ...   \n",
       "14083                                          24.43   \n",
       "14084                                          24.43   \n",
       "14085                                          24.43   \n",
       "14086                                          24.43   \n",
       "14087                                          24.43   \n",
       "\n",
       "       Machine1.RawMaterial.Property1  Machine1.RawMaterial.Property2  \\\n",
       "0                               11.54                             200   \n",
       "6                               11.54                             200   \n",
       "7                               11.54                             200   \n",
       "16                              11.54                             200   \n",
       "17                              11.54                             200   \n",
       "...                               ...                             ...   \n",
       "14083                           12.22                             201   \n",
       "14084                           12.22                             201   \n",
       "14085                           12.22                             201   \n",
       "14086                           12.22                             201   \n",
       "14087                           12.22                             201   \n",
       "\n",
       "       Machine1.RawMaterial.Property3  Machine1.RawMaterial.Property4  \\\n",
       "0                              963.00                             247   \n",
       "6                              963.00                             247   \n",
       "7                              963.00                             247   \n",
       "16                             963.00                             247   \n",
       "17                             963.00                             247   \n",
       "...                               ...                             ...   \n",
       "14083                         1048.06                             252   \n",
       "14084                         1048.06                             252   \n",
       "14085                         1048.06                             252   \n",
       "14086                         1048.06                             252   \n",
       "14087                         1048.06                             252   \n",
       "\n",
       "       Machine1.RawMaterialFeederParameter.U.Actual  \\\n",
       "0                                           1241.26   \n",
       "6                                           1306.38   \n",
       "7                                           1296.13   \n",
       "16                                          1179.70   \n",
       "17                                          1222.09   \n",
       "...                                             ...   \n",
       "14083                                       1263.76   \n",
       "14084                                       1255.42   \n",
       "14085                                       1257.52   \n",
       "14086                                       1261.99   \n",
       "14087                                       1257.40   \n",
       "\n",
       "       Machine1.Zone1Temperature.C.Actual  Machine1.Zone2Temperature.C.Actual  \\\n",
       "0                                    72.0                                72.3   \n",
       "6                                    72.1                                72.4   \n",
       "7                                    72.1                                72.4   \n",
       "16                                   72.1                                72.5   \n",
       "17                                   72.1                                72.5   \n",
       "...                                   ...                                 ...   \n",
       "14083                                72.0                                71.8   \n",
       "14084                                72.0                                71.8   \n",
       "14085                                72.0                                71.8   \n",
       "14086                                72.0                                71.9   \n",
       "14087                                72.0                                71.9   \n",
       "\n",
       "       ...  Stage2.Output.Measurement10.U.Actual  \\\n",
       "0      ...                                  0.00   \n",
       "6      ...                                  0.00   \n",
       "7      ...                                  0.00   \n",
       "16     ...                                  0.00   \n",
       "17     ...                                  0.00   \n",
       "...    ...                                   ...   \n",
       "14083  ...                                  7.87   \n",
       "14084  ...                                  7.85   \n",
       "14085  ...                                  7.93   \n",
       "14086  ...                                  7.85   \n",
       "14087  ...                                  7.85   \n",
       "\n",
       "       Stage2.Output.Measurement10.U.Setpoint  \\\n",
       "0                                        7.93   \n",
       "6                                        7.93   \n",
       "7                                        7.93   \n",
       "16                                       7.93   \n",
       "17                                       7.93   \n",
       "...                                       ...   \n",
       "14083                                    7.93   \n",
       "14084                                    7.93   \n",
       "14085                                    7.93   \n",
       "14086                                    7.93   \n",
       "14087                                    7.93   \n",
       "\n",
       "       Stage2.Output.Measurement11.U.Actual  \\\n",
       "0                                      0.00   \n",
       "6                                      0.00   \n",
       "7                                      0.00   \n",
       "16                                     0.00   \n",
       "17                                     0.00   \n",
       "...                                     ...   \n",
       "14083                                  5.53   \n",
       "14084                                  5.48   \n",
       "14085                                  5.54   \n",
       "14086                                  5.51   \n",
       "14087                                  5.51   \n",
       "\n",
       "       Stage2.Output.Measurement11.U.Setpoint  \\\n",
       "0                                        5.65   \n",
       "6                                        5.65   \n",
       "7                                        5.65   \n",
       "16                                       5.65   \n",
       "17                                       5.65   \n",
       "...                                       ...   \n",
       "14083                                    5.65   \n",
       "14084                                    5.65   \n",
       "14085                                    5.65   \n",
       "14086                                    5.65   \n",
       "14087                                    5.65   \n",
       "\n",
       "       Stage2.Output.Measurement12.U.Actual  \\\n",
       "0                                      0.00   \n",
       "6                                      0.00   \n",
       "7                                      0.00   \n",
       "16                                     0.00   \n",
       "17                                     0.00   \n",
       "...                                     ...   \n",
       "14083                                  2.07   \n",
       "14084                                  2.01   \n",
       "14085                                  2.06   \n",
       "14086                                  2.05   \n",
       "14087                                  2.05   \n",
       "\n",
       "       Stage2.Output.Measurement12.U.Setpoint  \\\n",
       "0                                        1.85   \n",
       "6                                        1.85   \n",
       "7                                        1.85   \n",
       "16                                       1.85   \n",
       "17                                       1.85   \n",
       "...                                       ...   \n",
       "14083                                    1.85   \n",
       "14084                                    1.85   \n",
       "14085                                    1.85   \n",
       "14086                                    1.85   \n",
       "14087                                    1.85   \n",
       "\n",
       "       Stage2.Output.Measurement13.U.Actual  \\\n",
       "0                                      0.00   \n",
       "6                                      0.00   \n",
       "7                                      0.00   \n",
       "16                                     0.00   \n",
       "17                                     0.00   \n",
       "...                                     ...   \n",
       "14083                                  3.80   \n",
       "14084                                  3.79   \n",
       "14085                                  3.83   \n",
       "14086                                  3.83   \n",
       "14087                                  3.83   \n",
       "\n",
       "       Stage2.Output.Measurement13.U.Setpoint  \\\n",
       "0                                        2.89   \n",
       "6                                        2.89   \n",
       "7                                        2.89   \n",
       "16                                       2.89   \n",
       "17                                       2.89   \n",
       "...                                       ...   \n",
       "14083                                    2.89   \n",
       "14084                                    2.89   \n",
       "14085                                    2.89   \n",
       "14086                                    2.89   \n",
       "14087                                    2.89   \n",
       "\n",
       "       Stage2.Output.Measurement14.U.Actual  \\\n",
       "0                                      0.00   \n",
       "6                                      0.00   \n",
       "7                                      0.00   \n",
       "16                                     0.00   \n",
       "17                                     0.00   \n",
       "...                                     ...   \n",
       "14083                                  7.56   \n",
       "14084                                  7.76   \n",
       "14085                                  7.66   \n",
       "14086                                  7.87   \n",
       "14087                                  7.87   \n",
       "\n",
       "       Stage2.Output.Measurement14.U.Setpoint  \n",
       "0                                       11.71  \n",
       "6                                       11.71  \n",
       "7                                       11.71  \n",
       "16                                      11.71  \n",
       "17                                      11.71  \n",
       "...                                       ...  \n",
       "14083                                   11.71  \n",
       "14084                                   11.71  \n",
       "14085                                   11.71  \n",
       "14086                                   11.71  \n",
       "14087                                   11.71  \n",
       "\n",
       "[13988 rows x 116 columns]"
      ]
     },
     "execution_count": 13,
     "metadata": {},
     "output_type": "execute_result"
    }
   ],
   "source": [
    "# 이상치 제거 데이터 생성\n",
    "df0_reduced = df0.loc[(df0[\"Stage1.Output.Measurement0.U.Actual\"] > 12.5)]\n",
    "df0_reduced"
   ]
  },
  {
   "cell_type": "code",
   "execution_count": 14,
   "metadata": {},
   "outputs": [
    {
     "data": {
      "text/plain": [
       "[<matplotlib.lines.Line2D at 0x1839ab2de80>]"
      ]
     },
     "execution_count": 14,
     "metadata": {},
     "output_type": "execute_result"
    },
    {
     "data": {
      "text/plain": [
       "[<matplotlib.lines.Line2D at 0x1839ab3b220>]"
      ]
     },
     "execution_count": 14,
     "metadata": {},
     "output_type": "execute_result"
    },
    {
     "data": {
      "image/png": "[encoded data removed]",
      "text/plain": [
       "<Figure size 432x288 with 1 Axes>"
      ]
     },
     "metadata": {
      "needs_background": "light"
     },
     "output_type": "display_data"
    }
   ],
   "source": [
    "plt.plot(df0_reduced.reset_index(drop = True)[\"Stage1.Output.Measurement0.U.Actual\"], \"r\")\n",
    "plt.plot(df0_reduced.reset_index(drop = True)[\"Stage1.Output.Measurement0.U.Setpoint\"], \"b\")"
   ]
  },
  {
   "cell_type": "code",
   "execution_count": 15,
   "metadata": {},
   "outputs": [],
   "source": [
    "df0_indexed = df0_reduced.reset_index(drop = True)\n",
    "df0_indexed.to_csv(\"C:\\\\DataScience\\\\project\\\\continuous_factory_process\\\\Data1\\\\df0_indexed.csv\", index = False)"
   ]
  },
  {
   "cell_type": "markdown",
   "metadata": {},
   "source": [
    "## stage1 output1"
   ]
  },
  {
   "cell_type": "code",
   "execution_count": 16,
   "metadata": {},
   "outputs": [],
   "source": [
    "df1=df.copy()\n"
   ]
  },
  {
   "cell_type": "code",
   "execution_count": 17,
   "metadata": {},
   "outputs": [
    {
     "data": {
      "text/plain": [
       "19.14"
      ]
     },
     "execution_count": 17,
     "metadata": {},
     "output_type": "execute_result"
    },
    {
     "data": {
      "text/plain": [
       "-3.1328028619999997"
      ]
     },
     "execution_count": 17,
     "metadata": {},
     "output_type": "execute_result"
    },
    {
     "data": {
      "text/plain": [
       "13.25"
      ]
     },
     "execution_count": 17,
     "metadata": {},
     "output_type": "execute_result"
    },
    {
     "data": {
      "text/plain": [
       "22.74"
      ]
     },
     "execution_count": 17,
     "metadata": {},
     "output_type": "execute_result"
    },
    {
     "data": {
      "text/plain": [
       "0.0"
      ]
     },
     "execution_count": 17,
     "metadata": {},
     "output_type": "execute_result"
    },
    {
     "data": {
      "text/plain": [
       "22.74"
      ]
     },
     "execution_count": 17,
     "metadata": {},
     "output_type": "execute_result"
    }
   ],
   "source": [
    "y1[\"Stage1.Output.Measurement1.U.Actual\"].max()\n",
    "y1[\"Stage1.Output.Measurement1.U.Actual\"].min()\n",
    "y1[\"Stage1.Output.Measurement1.U.Actual\"].median()\n",
    "y1[\"Stage1.Output.Measurement1.U.Setpoint\"].max()\n",
    "y1[\"Stage1.Output.Measurement1.U.Setpoint\"].min()\n",
    "y1[\"Stage1.Output.Measurement1.U.Setpoint\"].median()"
   ]
  },
  {
   "cell_type": "code",
   "execution_count": 18,
   "metadata": {},
   "outputs": [
    {
     "data": {
      "text/plain": [
       "[<matplotlib.lines.Line2D at 0x1839ab9c2b0>]"
      ]
     },
     "execution_count": 18,
     "metadata": {},
     "output_type": "execute_result"
    },
    {
     "data": {
      "text/plain": [
       "[<matplotlib.lines.Line2D at 0x1839ab9c760>]"
      ]
     },
     "execution_count": 18,
     "metadata": {},
     "output_type": "execute_result"
    },
    {
     "data": {
      "image/png": "[encoded data removed]",
      "text/plain": [
       "<Figure size 432x288 with 1 Axes>"
      ]
     },
     "metadata": {
      "needs_background": "light"
     },
     "output_type": "display_data"
    }
   ],
   "source": [
    "plt.plot(df1[\"Stage1.Output.Measurement1.U.Actual\"],'b')\n",
    "plt.plot(df1[\"Stage1.Output.Measurement1.U.Setpoint\"],'r')"
   ]
  },
  {
   "cell_type": "markdown",
   "metadata": {},
   "source": [
    "## 이상치 제거하기 기준 모호로 보류"
   ]
  },
  {
   "cell_type": "markdown",
   "metadata": {},
   "source": [
    "## stage1 output2"
   ]
  },
  {
   "cell_type": "code",
   "execution_count": 19,
   "metadata": {},
   "outputs": [],
   "source": [
    "df2=df.copy()"
   ]
  },
  {
   "cell_type": "code",
   "execution_count": 20,
   "metadata": {},
   "outputs": [
    {
     "data": {
      "text/plain": [
       "[<matplotlib.lines.Line2D at 0x1839abc8a00>]"
      ]
     },
     "execution_count": 20,
     "metadata": {},
     "output_type": "execute_result"
    },
    {
     "data": {
      "text/plain": [
       "[<matplotlib.lines.Line2D at 0x1839abcf340>]"
      ]
     },
     "execution_count": 20,
     "metadata": {},
     "output_type": "execute_result"
    },
    {
     "data": {
      "image/png": "[encoded data removed]",
      "text/plain": [
       "<Figure size 432x288 with 1 Axes>"
      ]
     },
     "metadata": {
      "needs_background": "light"
     },
     "output_type": "display_data"
    }
   ],
   "source": [
    "# 15초과 데이터 제거\n",
    "plt.plot(df2[\"Stage1.Output.Measurement2.U.Actual\"].loc[df2[\"Stage1.Output.Measurement2.U.Actual\"] < 15], \"r\")\n",
    "plt.plot(df2[\"Stage1.Output.Measurement2.U.Setpoint\"].loc[df2[\"Stage1.Output.Measurement2.U.Actual\"] < 15], \"b\")"
   ]
  },
  {
   "cell_type": "code",
   "execution_count": 21,
   "metadata": {},
   "outputs": [
    {
     "data": {
      "text/plain": [
       "[<matplotlib.lines.Line2D at 0x1839ac4dc40>]"
      ]
     },
     "execution_count": 21,
     "metadata": {},
     "output_type": "execute_result"
    },
    {
     "data": {
      "text/plain": [
       "[<matplotlib.lines.Line2D at 0x1839ac4dfd0>]"
      ]
     },
     "execution_count": 21,
     "metadata": {},
     "output_type": "execute_result"
    },
    {
     "data": {
      "image/png": "[encoded data removed]",
      "text/plain": [
       "<Figure size 432x288 with 1 Axes>"
      ]
     },
     "metadata": {
      "needs_background": "light"
     },
     "output_type": "display_data"
    }
   ],
   "source": [
    "# 8미만 데이터 제거\n",
    "plt.plot(df2[\"Stage1.Output.Measurement2.U.Actual\"].loc[df2[\"Stage1.Output.Measurement2.U.Actual\"] > 8], \"r\")\n",
    "plt.plot(df2[\"Stage1.Output.Measurement2.U.Setpoint\"].loc[df2[\"Stage1.Output.Measurement2.U.Actual\"] > 8], \"b\")"
   ]
  },
  {
   "cell_type": "code",
   "execution_count": 22,
   "metadata": {},
   "outputs": [],
   "source": [
    "df2_reduced = df2.loc[(df2[\"Stage1.Output.Measurement2.U.Actual\"] > 8) & (df2[\"Stage1.Output.Measurement2.U.Actual\"] < 15)]"
   ]
  },
  {
   "cell_type": "code",
   "execution_count": 23,
   "metadata": {},
   "outputs": [
    {
     "data": {
      "text/plain": [
       "[<matplotlib.lines.Line2D at 0x1839acb8250>]"
      ]
     },
     "execution_count": 23,
     "metadata": {},
     "output_type": "execute_result"
    },
    {
     "data": {
      "text/plain": [
       "[<matplotlib.lines.Line2D at 0x1839acb8670>]"
      ]
     },
     "execution_count": 23,
     "metadata": {},
     "output_type": "execute_result"
    },
    {
     "data": {
      "image/png": "[encoded data removed]",
      "text/plain": [
       "<Figure size 432x288 with 1 Axes>"
      ]
     },
     "metadata": {
      "needs_background": "light"
     },
     "output_type": "display_data"
    }
   ],
   "source": [
    "plt.plot(df2_reduced[\"Stage1.Output.Measurement2.U.Actual\"], \"r\")\n",
    "plt.plot(df2_reduced[\"Stage1.Output.Measurement2.U.Setpoint\"], \"b\")"
   ]
  },
  {
   "cell_type": "code",
   "execution_count": 24,
   "metadata": {},
   "outputs": [],
   "source": [
    "df2_indexed = df2_reduced.reset_index(drop = True)\n",
    "df2_indexed.to_csv(\"C:\\\\DataScience\\\\project\\\\continuous_factory_process\\\\Data1\\\\df2_indexed.csv\", index = False)"
   ]
  },
  {
   "cell_type": "markdown",
   "metadata": {},
   "source": [
    "## Stage1 output3"
   ]
  },
  {
   "cell_type": "code",
   "execution_count": 25,
   "metadata": {},
   "outputs": [],
   "source": [
    "df3 = df.copy()"
   ]
  },
  {
   "cell_type": "code",
   "execution_count": 26,
   "metadata": {},
   "outputs": [
    {
     "data": {
      "text/plain": [
       "[<matplotlib.lines.Line2D at 0x1839ad1df10>]"
      ]
     },
     "execution_count": 26,
     "metadata": {},
     "output_type": "execute_result"
    },
    {
     "data": {
      "text/plain": [
       "[<matplotlib.lines.Line2D at 0x1839ad26400>]"
      ]
     },
     "execution_count": 26,
     "metadata": {},
     "output_type": "execute_result"
    },
    {
     "data": {
      "image/png": "[encoded data removed]",
      "text/plain": [
       "<Figure size 432x288 with 1 Axes>"
      ]
     },
     "metadata": {
      "needs_background": "light"
     },
     "output_type": "display_data"
    }
   ],
   "source": [
    "plt.plot(df3[\"Stage1.Output.Measurement3.U.Actual\"], \"r\")\n",
    "plt.plot(df3[\"Stage1.Output.Measurement3.U.Setpoint\"], \"b\")"
   ]
  },
  {
   "cell_type": "code",
   "execution_count": 27,
   "metadata": {},
   "outputs": [
    {
     "data": {
      "text/plain": [
       "[<matplotlib.lines.Line2D at 0x1839ad7b7c0>]"
      ]
     },
     "execution_count": 27,
     "metadata": {},
     "output_type": "execute_result"
    },
    {
     "data": {
      "text/plain": [
       "[<matplotlib.lines.Line2D at 0x1839ad7bb50>]"
      ]
     },
     "execution_count": 27,
     "metadata": {},
     "output_type": "execute_result"
    },
    {
     "data": {
      "image/png": "[encoded data removed]",
      "text/plain": [
       "<Figure size 432x288 with 1 Axes>"
      ]
     },
     "metadata": {
      "needs_background": "light"
     },
     "output_type": "display_data"
    }
   ],
   "source": [
    "# 20미만 데이터 제거\n",
    "plt.plot(df3[\"Stage1.Output.Measurement3.U.Actual\"].loc[df3[\"Stage1.Output.Measurement3.U.Actual\"] > 20], \"r\")\n",
    "plt.plot(df3[\"Stage1.Output.Measurement3.U.Setpoint\"].loc[df3[\"Stage1.Output.Measurement3.U.Actual\"] > 20], \"b\")"
   ]
  },
  {
   "cell_type": "code",
   "execution_count": 28,
   "metadata": {},
   "outputs": [
    {
     "data": {
      "text/plain": [
       "[<matplotlib.lines.Line2D at 0x183a4cbcb20>]"
      ]
     },
     "execution_count": 28,
     "metadata": {},
     "output_type": "execute_result"
    },
    {
     "data": {
      "text/plain": [
       "[<matplotlib.lines.Line2D at 0x183a4cbceb0>]"
      ]
     },
     "execution_count": 28,
     "metadata": {},
     "output_type": "execute_result"
    },
    {
     "data": {
      "image/png": "[encoded data removed]",
      "text/plain": [
       "<Figure size 432x288 with 1 Axes>"
      ]
     },
     "metadata": {
      "needs_background": "light"
     },
     "output_type": "display_data"
    }
   ],
   "source": [
    "# 21.2미만 데이터 제거\n",
    "plt.plot(df3[\"Stage1.Output.Measurement3.U.Actual\"].loc[df3[\"Stage1.Output.Measurement3.U.Actual\"] > 21.2], \"r\")\n",
    "plt.plot(df3[\"Stage1.Output.Measurement3.U.Setpoint\"].loc[df3[\"Stage1.Output.Measurement3.U.Actual\"] > 21.2], \"b\")"
   ]
  },
  {
   "cell_type": "code",
   "execution_count": 29,
   "metadata": {},
   "outputs": [],
   "source": [
    "# 이상치 제거 데이터 생성\n",
    "df3_reduced = df3.loc[df3[\"Stage1.Output.Measurement3.U.Actual\"] > 21.2]"
   ]
  },
  {
   "cell_type": "code",
   "execution_count": 30,
   "metadata": {},
   "outputs": [],
   "source": [
    "df3_indexed = df3_reduced.reset_index(drop = True)\n",
    "df3_indexed.to_csv(\"C:\\\\DataScience\\\\project\\\\continuous_factory_process\\\\Data1\\\\df3_indexed.csv\", index = False)"
   ]
  },
  {
   "cell_type": "markdown",
   "metadata": {},
   "source": [
    "## Stage1 output4"
   ]
  },
  {
   "cell_type": "code",
   "execution_count": 31,
   "metadata": {},
   "outputs": [],
   "source": [
    "df4 = df.copy()"
   ]
  },
  {
   "cell_type": "code",
   "execution_count": 32,
   "metadata": {},
   "outputs": [
    {
     "data": {
      "text/plain": [
       "[<matplotlib.lines.Line2D at 0x183a4d06c10>]"
      ]
     },
     "execution_count": 32,
     "metadata": {},
     "output_type": "execute_result"
    },
    {
     "data": {
      "text/plain": [
       "[<matplotlib.lines.Line2D at 0x183a4d27130>]"
      ]
     },
     "execution_count": 32,
     "metadata": {},
     "output_type": "execute_result"
    },
    {
     "data": {
      "image/png": "[encoded data removed]",
      "text/plain": [
       "<Figure size 432x288 with 1 Axes>"
      ]
     },
     "metadata": {
      "needs_background": "light"
     },
     "output_type": "display_data"
    }
   ],
   "source": [
    "plt.plot(df4[\"Stage1.Output.Measurement4.U.Actual\"], \"r\")\n",
    "plt.plot(df4[\"Stage1.Output.Measurement4.U.Setpoint\"], \"b\")"
   ]
  },
  {
   "cell_type": "code",
   "execution_count": 33,
   "metadata": {},
   "outputs": [
    {
     "data": {
      "text/plain": [
       "[<matplotlib.lines.Line2D at 0x183a87b2ee0>]"
      ]
     },
     "execution_count": 33,
     "metadata": {},
     "output_type": "execute_result"
    },
    {
     "data": {
      "text/plain": [
       "[<matplotlib.lines.Line2D at 0x183a87bd2b0>]"
      ]
     },
     "execution_count": 33,
     "metadata": {},
     "output_type": "execute_result"
    },
    {
     "data": {
      "image/png": "[encoded data removed]",
      "text/plain": [
       "<Figure size 432x288 with 1 Axes>"
      ]
     },
     "metadata": {
      "needs_background": "light"
     },
     "output_type": "display_data"
    }
   ],
   "source": [
    "# 30미만 데이터 제거\n",
    "plt.plot(df4[\"Stage1.Output.Measurement4.U.Actual\"].loc[df4[\"Stage1.Output.Measurement4.U.Actual\"] > 30], \"r\")\n",
    "plt.plot(df4[\"Stage1.Output.Measurement4.U.Setpoint\"].loc[df4[\"Stage1.Output.Measurement4.U.Actual\"] > 30], \"b\")"
   ]
  },
  {
   "cell_type": "code",
   "execution_count": 34,
   "metadata": {},
   "outputs": [],
   "source": [
    "df4_reduced = df4.loc[df4[\"Stage1.Output.Measurement4.U.Actual\"] > 30]"
   ]
  },
  {
   "cell_type": "code",
   "execution_count": 104,
   "metadata": {},
   "outputs": [],
   "source": [
    "df4_indexed = df4_reduced.reset_index(drop = True)\n",
    "df4_indexed.to_csv(\"C:\\\\DataScience\\\\project\\\\continuous_factory_process\\\\Data1\\\\df4_indexed.csv\", index = False)"
   ]
  },
  {
   "cell_type": "markdown",
   "metadata": {},
   "source": [
    "## Stage1 output5"
   ]
  },
  {
   "cell_type": "code",
   "execution_count": 36,
   "metadata": {},
   "outputs": [],
   "source": [
    "df5 = df.copy()"
   ]
  },
  {
   "cell_type": "code",
   "execution_count": 37,
   "metadata": {},
   "outputs": [
    {
     "data": {
      "text/plain": [
       "[<matplotlib.lines.Line2D at 0x183a23065b0>]"
      ]
     },
     "execution_count": 37,
     "metadata": {},
     "output_type": "execute_result"
    },
    {
     "data": {
      "text/plain": [
       "[<matplotlib.lines.Line2D at 0x183a23069a0>]"
      ]
     },
     "execution_count": 37,
     "metadata": {},
     "output_type": "execute_result"
    },
    {
     "data": {
      "image/png": "[encoded data removed]",
      "text/plain": [
       "<Figure size 432x288 with 1 Axes>"
      ]
     },
     "metadata": {
      "needs_background": "light"
     },
     "output_type": "display_data"
    }
   ],
   "source": [
    "plt.plot(df5[\"Stage1.Output.Measurement5.U.Setpoint\"], \"b\")\n",
    "plt.plot(df5[\"Stage1.Output.Measurement5.U.Actual\"], \"r\")"
   ]
  },
  {
   "cell_type": "code",
   "execution_count": 38,
   "metadata": {},
   "outputs": [
    {
     "data": {
      "text/plain": [
       "[<matplotlib.lines.Line2D at 0x183a236b340>]"
      ]
     },
     "execution_count": 38,
     "metadata": {},
     "output_type": "execute_result"
    },
    {
     "data": {
      "text/plain": [
       "[<matplotlib.lines.Line2D at 0x183a236b6d0>]"
      ]
     },
     "execution_count": 38,
     "metadata": {},
     "output_type": "execute_result"
    },
    {
     "data": {
      "image/png": "[encoded data removed]",
      "text/plain": [
       "<Figure size 432x288 with 1 Axes>"
      ]
     },
     "metadata": {
      "needs_background": "light"
     },
     "output_type": "display_data"
    }
   ],
   "source": [
    "# 2미만 데이터 제거\n",
    "plt.plot(df5[\"Stage1.Output.Measurement5.U.Actual\"].loc[df5[\"Stage1.Output.Measurement5.U.Actual\"] > 2], \"r\")\n",
    "plt.plot(df5[\"Stage1.Output.Measurement5.U.Setpoint\"].loc[df5[\"Stage1.Output.Measurement5.U.Actual\"] > 2], \"b\")"
   ]
  },
  {
   "cell_type": "code",
   "execution_count": 39,
   "metadata": {},
   "outputs": [
    {
     "data": {
      "text/plain": [
       "[<matplotlib.lines.Line2D at 0x183a23c4580>]"
      ]
     },
     "execution_count": 39,
     "metadata": {},
     "output_type": "execute_result"
    },
    {
     "data": {
      "text/plain": [
       "[<matplotlib.lines.Line2D at 0x183a23c4910>]"
      ]
     },
     "execution_count": 39,
     "metadata": {},
     "output_type": "execute_result"
    },
    {
     "data": {
      "image/png": "[encoded data removed]",
      "text/plain": [
       "<Figure size 432x288 with 1 Axes>"
      ]
     },
     "metadata": {
      "needs_background": "light"
     },
     "output_type": "display_data"
    }
   ],
   "source": [
    "# 3 초과 데이터 제거\n",
    "plt.plot(df5[\"Stage1.Output.Measurement5.U.Actual\"].loc[df5[\"Stage1.Output.Measurement5.U.Actual\"] < 3], \"r\")\n",
    "plt.plot(df5[\"Stage1.Output.Measurement5.U.Setpoint\"].loc[df5[\"Stage1.Output.Measurement5.U.Actual\"] < 3], \"b\")"
   ]
  },
  {
   "cell_type": "code",
   "execution_count": 40,
   "metadata": {},
   "outputs": [],
   "source": [
    "df5_reduced = df5.loc[(df5[\"Stage1.Output.Measurement5.U.Actual\"] > 2) & (df5[\"Stage1.Output.Measurement5.U.Actual\"] < 3)]"
   ]
  },
  {
   "cell_type": "code",
   "execution_count": 41,
   "metadata": {},
   "outputs": [
    {
     "data": {
      "text/plain": [
       "[<matplotlib.lines.Line2D at 0x1839abb95b0>]"
      ]
     },
     "execution_count": 41,
     "metadata": {},
     "output_type": "execute_result"
    },
    {
     "data": {
      "text/plain": [
       "[<matplotlib.lines.Line2D at 0x1839ac1a070>]"
      ]
     },
     "execution_count": 41,
     "metadata": {},
     "output_type": "execute_result"
    },
    {
     "data": {
      "image/png": "[encoded data removed]",
      "text/plain": [
       "<Figure size 432x288 with 1 Axes>"
      ]
     },
     "metadata": {
      "needs_background": "light"
     },
     "output_type": "display_data"
    }
   ],
   "source": [
    "plt.plot(df5_reduced[\"Stage1.Output.Measurement5.U.Actual\"], \"r\")\n",
    "plt.plot(df5_reduced[\"Stage1.Output.Measurement5.U.Setpoint\"], \"b\")"
   ]
  },
  {
   "cell_type": "code",
   "execution_count": 42,
   "metadata": {},
   "outputs": [],
   "source": [
    "df5_indexed = df5_reduced.reset_index(drop = True)\n",
    "df5_indexed.to_csv(\"C:\\\\DataScience\\\\project\\\\continuous_factory_process\\\\Data1\\\\df5_indexed.csv\", index = False)"
   ]
  },
  {
   "cell_type": "markdown",
   "metadata": {},
   "source": [
    "## Stage1 output6"
   ]
  },
  {
   "cell_type": "code",
   "execution_count": 43,
   "metadata": {},
   "outputs": [],
   "source": [
    "df6 = df.copy()"
   ]
  },
  {
   "cell_type": "code",
   "execution_count": 44,
   "metadata": {},
   "outputs": [
    {
     "data": {
      "text/plain": [
       "[<matplotlib.lines.Line2D at 0x183a23fb220>]"
      ]
     },
     "execution_count": 44,
     "metadata": {},
     "output_type": "execute_result"
    },
    {
     "data": {
      "text/plain": [
       "[<matplotlib.lines.Line2D at 0x183a23f3220>]"
      ]
     },
     "execution_count": 44,
     "metadata": {},
     "output_type": "execute_result"
    },
    {
     "data": {
      "image/png": "[encoded data removed]",
      "text/plain": [
       "<Figure size 432x288 with 1 Axes>"
      ]
     },
     "metadata": {
      "needs_background": "light"
     },
     "output_type": "display_data"
    }
   ],
   "source": [
    "plt.plot(df6[\"Stage1.Output.Measurement6.U.Setpoint\"], \"b\")\n",
    "plt.plot(df6[\"Stage1.Output.Measurement6.U.Actual\"], \"r\")"
   ]
  },
  {
   "cell_type": "code",
   "execution_count": 45,
   "metadata": {},
   "outputs": [
    {
     "data": {
      "text/plain": [
       "[<matplotlib.lines.Line2D at 0x183ab19bb80>]"
      ]
     },
     "execution_count": 45,
     "metadata": {},
     "output_type": "execute_result"
    },
    {
     "data": {
      "text/plain": [
       "[<matplotlib.lines.Line2D at 0x183ab19bf10>]"
      ]
     },
     "execution_count": 45,
     "metadata": {},
     "output_type": "execute_result"
    },
    {
     "data": {
      "image/png": "[encoded data removed]",
      "text/plain": [
       "<Figure size 432x288 with 1 Axes>"
      ]
     },
     "metadata": {
      "needs_background": "light"
     },
     "output_type": "display_data"
    }
   ],
   "source": [
    "# 1미만 제거\n",
    "plt.plot(df6[\"Stage1.Output.Measurement6.U.Actual\"].loc[df6[\"Stage1.Output.Measurement6.U.Actual\"] > 1], \"r\")\n",
    "plt.plot(df6[\"Stage1.Output.Measurement6.U.Setpoint\"].loc[df6[\"Stage1.Output.Measurement6.U.Actual\"] > 1], \"b\")"
   ]
  },
  {
   "cell_type": "code",
   "execution_count": 46,
   "metadata": {},
   "outputs": [
    {
     "data": {
      "text/plain": [
       "[<matplotlib.lines.Line2D at 0x183ab32d9d0>]"
      ]
     },
     "execution_count": 46,
     "metadata": {},
     "output_type": "execute_result"
    },
    {
     "data": {
      "text/plain": [
       "[<matplotlib.lines.Line2D at 0x183ab32dd60>]"
      ]
     },
     "execution_count": 46,
     "metadata": {},
     "output_type": "execute_result"
    },
    {
     "data": {
      "image/png": "[encoded data removed]",
      "text/plain": [
       "<Figure size 432x288 with 1 Axes>"
      ]
     },
     "metadata": {
      "needs_background": "light"
     },
     "output_type": "display_data"
    }
   ],
   "source": [
    "# output 값 6.5 보다 큰 데이터 제거\n",
    "plt.plot(df6[\"Stage1.Output.Measurement6.U.Actual\"].loc[df6[\"Stage1.Output.Measurement6.U.Actual\"] < 6.5], \"r\")\n",
    "plt.plot(df6[\"Stage1.Output.Measurement6.U.Setpoint\"].loc[df6[\"Stage1.Output.Measurement6.U.Actual\"] < 6.5], \"b\")"
   ]
  },
  {
   "cell_type": "code",
   "execution_count": 47,
   "metadata": {},
   "outputs": [],
   "source": [
    "df6_reduced = df6.loc[(df6[\"Stage1.Output.Measurement6.U.Actual\"] > 1) & (df6[\"Stage1.Output.Measurement6.U.Actual\"] < 6.5)]"
   ]
  },
  {
   "cell_type": "code",
   "execution_count": 48,
   "metadata": {},
   "outputs": [
    {
     "data": {
      "text/plain": [
       "[<matplotlib.lines.Line2D at 0x183ab38fa60>]"
      ]
     },
     "execution_count": 48,
     "metadata": {},
     "output_type": "execute_result"
    },
    {
     "data": {
      "text/plain": [
       "[<matplotlib.lines.Line2D at 0x183ab38ff10>]"
      ]
     },
     "execution_count": 48,
     "metadata": {},
     "output_type": "execute_result"
    },
    {
     "data": {
      "image/png": "[encoded data removed]",
      "text/plain": [
       "<Figure size 432x288 with 1 Axes>"
      ]
     },
     "metadata": {
      "needs_background": "light"
     },
     "output_type": "display_data"
    }
   ],
   "source": [
    "plt.plot(df6_reduced[\"Stage1.Output.Measurement6.U.Actual\"], \"r\")\n",
    "plt.plot(df6_reduced[\"Stage1.Output.Measurement6.U.Setpoint\"], \"b\")"
   ]
  },
  {
   "cell_type": "code",
   "execution_count": 49,
   "metadata": {},
   "outputs": [],
   "source": [
    "df6_indexed = df6_reduced.reset_index(drop = True)\n",
    "df6_indexed.to_csv(\"C:\\\\DataScience\\\\project\\\\continuous_factory_process\\\\Data1\\\\df6_indexed.csv\", index = False)"
   ]
  },
  {
   "cell_type": "markdown",
   "metadata": {},
   "source": [
    "## Stage1 output7"
   ]
  },
  {
   "cell_type": "code",
   "execution_count": 50,
   "metadata": {},
   "outputs": [],
   "source": [
    "df7 = df.copy()"
   ]
  },
  {
   "cell_type": "code",
   "execution_count": 1,
   "metadata": {},
   "outputs": [
    {
     "ename": "NameError",
     "evalue": "name 'plt' is not defined",
     "output_type": "error",
     "traceback": [
      "\u001b[1;31m---------------------------------------------------------------------------\u001b[0m",
      "\u001b[1;31mNameError\u001b[0m                                 Traceback (most recent call last)",
      "\u001b[1;32m<ipython-input-1-c87becdbee38>\u001b[0m in \u001b[0;36m<module>\u001b[1;34m\u001b[0m\n\u001b[1;32m----> 1\u001b[1;33m \u001b[0mplt\u001b[0m\u001b[1;33m.\u001b[0m\u001b[0mplot\u001b[0m\u001b[1;33m(\u001b[0m\u001b[0mdf7\u001b[0m\u001b[1;33m[\u001b[0m\u001b[1;34m\"Stage1.Output.Measurement7.U.Setpoint\"\u001b[0m\u001b[1;33m]\u001b[0m\u001b[1;33m,\u001b[0m \u001b[1;34m\"b\"\u001b[0m\u001b[1;33m)\u001b[0m\u001b[1;33m\u001b[0m\u001b[1;33m\u001b[0m\u001b[0m\n\u001b[0m\u001b[0;32m      2\u001b[0m \u001b[0mplt\u001b[0m\u001b[1;33m.\u001b[0m\u001b[0mplot\u001b[0m\u001b[1;33m(\u001b[0m\u001b[0mdf7\u001b[0m\u001b[1;33m[\u001b[0m\u001b[1;34m\"Stage1.Output.Measurement7.U.Actual\"\u001b[0m\u001b[1;33m]\u001b[0m\u001b[1;33m,\u001b[0m \u001b[1;34m\"r\"\u001b[0m\u001b[1;33m)\u001b[0m\u001b[1;33m\u001b[0m\u001b[1;33m\u001b[0m\u001b[0m\n",
      "\u001b[1;31mNameError\u001b[0m: name 'plt' is not defined"
     ]
    }
   ],
   "source": [
    "plt.plot(df7[\"Stage1.Output.Measurement7.U.Setpoint\"], \"b\")\n",
    "plt.plot(df7[\"Stage1.Output.Measurement7.U.Actual\"], \"r\")"
   ]
  },
  {
   "cell_type": "code",
   "execution_count": 52,
   "metadata": {},
   "outputs": [],
   "source": [
    "# 인덱스 6015 이후 이상치들 제거\n",
    "df7 = df7[:6015]"
   ]
  },
  {
   "cell_type": "code",
   "execution_count": 53,
   "metadata": {},
   "outputs": [
    {
     "data": {
      "text/plain": [
       "[<matplotlib.lines.Line2D at 0x183acad78b0>]"
      ]
     },
     "execution_count": 53,
     "metadata": {},
     "output_type": "execute_result"
    },
    {
     "data": {
      "text/plain": [
       "[<matplotlib.lines.Line2D at 0x183acad7d90>]"
      ]
     },
     "execution_count": 53,
     "metadata": {},
     "output_type": "execute_result"
    },
    {
     "data": {
      "image/png": "[encoded data removed]",
      "text/plain": [
       "<Figure size 432x288 with 1 Axes>"
      ]
     },
     "metadata": {
      "needs_background": "light"
     },
     "output_type": "display_data"
    }
   ],
   "source": [
    "plt.plot(df7[\"Stage1.Output.Measurement7.U.Setpoint\"], \"b\")\n",
    "plt.plot(df7[\"Stage1.Output.Measurement7.U.Actual\"], \"r\")"
   ]
  },
  {
   "cell_type": "code",
   "execution_count": 54,
   "metadata": {},
   "outputs": [
    {
     "data": {
      "text/plain": [
       "[<matplotlib.lines.Line2D at 0x183acb3a670>]"
      ]
     },
     "execution_count": 54,
     "metadata": {},
     "output_type": "execute_result"
    },
    {
     "data": {
      "text/plain": [
       "[<matplotlib.lines.Line2D at 0x183acb3aa30>]"
      ]
     },
     "execution_count": 54,
     "metadata": {},
     "output_type": "execute_result"
    },
    {
     "data": {
      "image/png": "[encoded data removed]",
      "text/plain": [
       "<Figure size 432x288 with 1 Axes>"
      ]
     },
     "metadata": {
      "needs_background": "light"
     },
     "output_type": "display_data"
    }
   ],
   "source": [
    "#3 초과제거\n",
    "plt.plot(df7[\"Stage1.Output.Measurement7.U.Actual\"].loc[df7[\"Stage1.Output.Measurement7.U.Actual\"] < 3], \"r\")\n",
    "plt.plot(df7[\"Stage1.Output.Measurement7.U.Setpoint\"].loc[df7[\"Stage1.Output.Measurement7.U.Actual\"] < 3], \"b\")"
   ]
  },
  {
   "cell_type": "code",
   "execution_count": 55,
   "metadata": {},
   "outputs": [
    {
     "data": {
      "text/plain": [
       "[<matplotlib.lines.Line2D at 0x183acb9e460>]"
      ]
     },
     "execution_count": 55,
     "metadata": {},
     "output_type": "execute_result"
    },
    {
     "data": {
      "text/plain": [
       "[<matplotlib.lines.Line2D at 0x183acb9e820>]"
      ]
     },
     "execution_count": 55,
     "metadata": {},
     "output_type": "execute_result"
    },
    {
     "data": {
      "image/png": "[encoded data removed]",
      "text/plain": [
       "<Figure size 432x288 with 1 Axes>"
      ]
     },
     "metadata": {
      "needs_background": "light"
     },
     "output_type": "display_data"
    }
   ],
   "source": [
    "#2.6 미만 제거\n",
    "plt.plot(df7[\"Stage1.Output.Measurement7.U.Actual\"].loc[df7[\"Stage1.Output.Measurement7.U.Actual\"] > 2.6], \"r\")\n",
    "plt.plot(df7[\"Stage1.Output.Measurement7.U.Setpoint\"].loc[df7[\"Stage1.Output.Measurement7.U.Actual\"] > 2.6], \"b\")"
   ]
  },
  {
   "cell_type": "code",
   "execution_count": 56,
   "metadata": {},
   "outputs": [],
   "source": [
    "df7_reduced = df7.loc[(df7[\"Stage1.Output.Measurement7.U.Actual\"] > 2.6) & (df7[\"Stage1.Output.Measurement7.U.Actual\"] < 3)]"
   ]
  },
  {
   "cell_type": "code",
   "execution_count": 57,
   "metadata": {},
   "outputs": [],
   "source": [
    "df7_indexed = df7_reduced.reset_index(drop = True)\n",
    "df7_indexed.to_csv(\"C:\\\\DataScience\\\\project\\\\continuous_factory_process\\\\Data1\\\\df7_indexed.csv\", index = False)"
   ]
  },
  {
   "cell_type": "code",
   "execution_count": 58,
   "metadata": {},
   "outputs": [
    {
     "data": {
      "text/plain": [
       "[<matplotlib.lines.Line2D at 0x183acbfb250>]"
      ]
     },
     "execution_count": 58,
     "metadata": {},
     "output_type": "execute_result"
    },
    {
     "data": {
      "text/plain": [
       "[<matplotlib.lines.Line2D at 0x183acbfb730>]"
      ]
     },
     "execution_count": 58,
     "metadata": {},
     "output_type": "execute_result"
    },
    {
     "data": {
      "image/png": "[encoded data removed]",
      "text/plain": [
       "<Figure size 432x288 with 1 Axes>"
      ]
     },
     "metadata": {
      "needs_background": "light"
     },
     "output_type": "display_data"
    }
   ],
   "source": [
    "plt.plot(df7_indexed[\"Stage1.Output.Measurement7.U.Actual\"], \"r\")\n",
    "plt.plot(df7_indexed[\"Stage1.Output.Measurement7.U.Setpoint\"], \"b\")"
   ]
  },
  {
   "cell_type": "markdown",
   "metadata": {},
   "source": [
    "## Stage1 output8"
   ]
  },
  {
   "cell_type": "code",
   "execution_count": 59,
   "metadata": {},
   "outputs": [],
   "source": [
    "df8 = df.copy()"
   ]
  },
  {
   "cell_type": "code",
   "execution_count": 60,
   "metadata": {},
   "outputs": [
    {
     "data": {
      "text/plain": [
       "[<matplotlib.lines.Line2D at 0x183acc54dc0>]"
      ]
     },
     "execution_count": 60,
     "metadata": {},
     "output_type": "execute_result"
    },
    {
     "data": {
      "text/plain": [
       "[<matplotlib.lines.Line2D at 0x183acc63280>]"
      ]
     },
     "execution_count": 60,
     "metadata": {},
     "output_type": "execute_result"
    },
    {
     "data": {
      "image/png": "[encoded data removed]",
      "text/plain": [
       "<Figure size 432x288 with 1 Axes>"
      ]
     },
     "metadata": {
      "needs_background": "light"
     },
     "output_type": "display_data"
    }
   ],
   "source": [
    "plt.plot(df8[\"Stage1.Output.Measurement8.U.Setpoint\"], \"b\")\n",
    "plt.plot(df8[\"Stage1.Output.Measurement8.U.Actual\"], \"r\")"
   ]
  },
  {
   "cell_type": "code",
   "execution_count": 61,
   "metadata": {},
   "outputs": [
    {
     "data": {
      "text/plain": [
       "[<matplotlib.lines.Line2D at 0x183ace375e0>]"
      ]
     },
     "execution_count": 61,
     "metadata": {},
     "output_type": "execute_result"
    },
    {
     "data": {
      "text/plain": [
       "[<matplotlib.lines.Line2D at 0x183ace379a0>]"
      ]
     },
     "execution_count": 61,
     "metadata": {},
     "output_type": "execute_result"
    },
    {
     "data": {
      "image/png": "[encoded data removed]",
      "text/plain": [
       "<Figure size 432x288 with 1 Axes>"
      ]
     },
     "metadata": {
      "needs_background": "light"
     },
     "output_type": "display_data"
    }
   ],
   "source": [
    "# 21미만제거\n",
    "plt.plot(df8[\"Stage1.Output.Measurement8.U.Actual\"].loc[df8[\"Stage1.Output.Measurement8.U.Actual\"] > 20.1], \"r\")\n",
    "plt.plot(df8[\"Stage1.Output.Measurement8.U.Setpoint\"].loc[df8[\"Stage1.Output.Measurement8.U.Actual\"] > 20.1], \"b\")"
   ]
  },
  {
   "cell_type": "code",
   "execution_count": 62,
   "metadata": {},
   "outputs": [
    {
     "data": {
      "text/plain": [
       "[<matplotlib.lines.Line2D at 0x183ace95e50>]"
      ]
     },
     "execution_count": 62,
     "metadata": {},
     "output_type": "execute_result"
    },
    {
     "data": {
      "text/plain": [
       "[<matplotlib.lines.Line2D at 0x183acea3220>]"
      ]
     },
     "execution_count": 62,
     "metadata": {},
     "output_type": "execute_result"
    },
    {
     "data": {
      "image/png": "[encoded data removed]",
      "text/plain": [
       "<Figure size 432x288 with 1 Axes>"
      ]
     },
     "metadata": {
      "needs_background": "light"
     },
     "output_type": "display_data"
    }
   ],
   "source": [
    "#21.4 초과 제거\n",
    "plt.plot(df8[\"Stage1.Output.Measurement8.U.Actual\"].loc[df8[\"Stage1.Output.Measurement8.U.Actual\"] < 21.4], \"r\")\n",
    "plt.plot(df8[\"Stage1.Output.Measurement8.U.Setpoint\"].loc[df8[\"Stage1.Output.Measurement8.U.Actual\"] < 21.4], \"b\")"
   ]
  },
  {
   "cell_type": "code",
   "execution_count": 63,
   "metadata": {},
   "outputs": [],
   "source": [
    "df8_reduced = df8.loc[(df8[\"Stage1.Output.Measurement8.U.Actual\"] > 20.1) & (df8[\"Stage1.Output.Measurement8.U.Actual\"] < 21.4)]"
   ]
  },
  {
   "cell_type": "code",
   "execution_count": 64,
   "metadata": {},
   "outputs": [
    {
     "data": {
      "text/plain": [
       "[<matplotlib.lines.Line2D at 0x183ab15ed30>]"
      ]
     },
     "execution_count": 64,
     "metadata": {},
     "output_type": "execute_result"
    },
    {
     "data": {
      "text/plain": [
       "[<matplotlib.lines.Line2D at 0x183ab168a30>]"
      ]
     },
     "execution_count": 64,
     "metadata": {},
     "output_type": "execute_result"
    },
    {
     "data": {
      "image/png": "[encoded data removed]",
      "text/plain": [
       "<Figure size 432x288 with 1 Axes>"
      ]
     },
     "metadata": {
      "needs_background": "light"
     },
     "output_type": "display_data"
    }
   ],
   "source": [
    "plt.plot(df8_reduced[\"Stage1.Output.Measurement8.U.Actual\"], \"r\")\n",
    "plt.plot(df8_reduced[\"Stage1.Output.Measurement8.U.Setpoint\"], \"b\")"
   ]
  },
  {
   "cell_type": "code",
   "execution_count": 65,
   "metadata": {},
   "outputs": [],
   "source": [
    "df8_indexed = df8_reduced.reset_index(drop = True)\n",
    "df8_indexed.to_csv(\"C:\\\\DataScience\\\\project\\\\continuous_factory_process\\\\Data1\\\\df8_indexed.csv\", index = False)"
   ]
  },
  {
   "cell_type": "code",
   "execution_count": 66,
   "metadata": {},
   "outputs": [
    {
     "data": {
      "text/plain": [
       "[<matplotlib.lines.Line2D at 0x183ace5a8b0>]"
      ]
     },
     "execution_count": 66,
     "metadata": {},
     "output_type": "execute_result"
    },
    {
     "data": {
      "text/plain": [
       "[<matplotlib.lines.Line2D at 0x183ace677f0>]"
      ]
     },
     "execution_count": 66,
     "metadata": {},
     "output_type": "execute_result"
    },
    {
     "data": {
      "image/png": "[encoded data removed]",
      "text/plain": [
       "<Figure size 432x288 with 1 Axes>"
      ]
     },
     "metadata": {
      "needs_background": "light"
     },
     "output_type": "display_data"
    }
   ],
   "source": [
    "plt.plot(df8_indexed[\"Stage1.Output.Measurement8.U.Actual\"], \"r\")\n",
    "plt.plot(df8_indexed[\"Stage1.Output.Measurement8.U.Setpoint\"], \"b\")"
   ]
  },
  {
   "cell_type": "markdown",
   "metadata": {},
   "source": [
    "## Stage1 output9"
   ]
  },
  {
   "cell_type": "code",
   "execution_count": 67,
   "metadata": {},
   "outputs": [],
   "source": [
    "df9 = df.copy()"
   ]
  },
  {
   "cell_type": "code",
   "execution_count": 68,
   "metadata": {},
   "outputs": [
    {
     "data": {
      "text/plain": [
       "[<matplotlib.lines.Line2D at 0x183af597970>]"
      ]
     },
     "execution_count": 68,
     "metadata": {},
     "output_type": "execute_result"
    },
    {
     "data": {
      "text/plain": [
       "[<matplotlib.lines.Line2D at 0x183af597df0>]"
      ]
     },
     "execution_count": 68,
     "metadata": {},
     "output_type": "execute_result"
    },
    {
     "data": {
      "image/png": "[encoded data removed]",
      "text/plain": [
       "<Figure size 432x288 with 1 Axes>"
      ]
     },
     "metadata": {
      "needs_background": "light"
     },
     "output_type": "display_data"
    }
   ],
   "source": [
    "plt.plot(df9[\"Stage1.Output.Measurement9.U.Setpoint\"], \"b\")\n",
    "plt.plot(df9[\"Stage1.Output.Measurement9.U.Actual\"], \"r\")"
   ]
  },
  {
   "cell_type": "code",
   "execution_count": 69,
   "metadata": {},
   "outputs": [
    {
     "data": {
      "text/plain": [
       "[<matplotlib.lines.Line2D at 0x183af5fe280>]"
      ]
     },
     "execution_count": 69,
     "metadata": {},
     "output_type": "execute_result"
    },
    {
     "data": {
      "text/plain": [
       "[<matplotlib.lines.Line2D at 0x183af5fe610>]"
      ]
     },
     "execution_count": 69,
     "metadata": {},
     "output_type": "execute_result"
    },
    {
     "data": {
      "image/png": "[encoded data removed]",
      "text/plain": [
       "<Figure size 432x288 with 1 Axes>"
      ]
     },
     "metadata": {
      "needs_background": "light"
     },
     "output_type": "display_data"
    }
   ],
   "source": [
    "#18미만 제거\n",
    "plt.plot(df9[\"Stage1.Output.Measurement9.U.Actual\"].loc[df9[\"Stage1.Output.Measurement9.U.Actual\"] > 18], \"r\")\n",
    "plt.plot(df9[\"Stage1.Output.Measurement9.U.Setpoint\"].loc[df9[\"Stage1.Output.Measurement9.U.Actual\"] > 18], \"b\")"
   ]
  },
  {
   "cell_type": "code",
   "execution_count": 70,
   "metadata": {},
   "outputs": [
    {
     "data": {
      "text/plain": [
       "[<matplotlib.lines.Line2D at 0x183af654220>]"
      ]
     },
     "execution_count": 70,
     "metadata": {},
     "output_type": "execute_result"
    },
    {
     "data": {
      "text/plain": [
       "[<matplotlib.lines.Line2D at 0x183af6545b0>]"
      ]
     },
     "execution_count": 70,
     "metadata": {},
     "output_type": "execute_result"
    },
    {
     "data": {
      "image/png": "[encoded data removed]",
      "text/plain": [
       "<Figure size 432x288 with 1 Axes>"
      ]
     },
     "metadata": {
      "needs_background": "light"
     },
     "output_type": "display_data"
    }
   ],
   "source": [
    "# 20초과 제거\n",
    "plt.plot(df9[\"Stage1.Output.Measurement9.U.Actual\"].loc[df9[\"Stage1.Output.Measurement9.U.Actual\"] < 20], \"r\")\n",
    "plt.plot(df9[\"Stage1.Output.Measurement9.U.Setpoint\"].loc[df9[\"Stage1.Output.Measurement9.U.Actual\"] < 20], \"b\")"
   ]
  },
  {
   "cell_type": "code",
   "execution_count": 71,
   "metadata": {},
   "outputs": [],
   "source": [
    "df9_reduced = df9.loc[(df9[\"Stage1.Output.Measurement9.U.Actual\"] > 18) & (df9[\"Stage1.Output.Measurement9.U.Actual\"] < 20)]"
   ]
  },
  {
   "cell_type": "code",
   "execution_count": 72,
   "metadata": {},
   "outputs": [
    {
     "data": {
      "text/plain": [
       "[<matplotlib.lines.Line2D at 0x183af2d27f0>]"
      ]
     },
     "execution_count": 72,
     "metadata": {},
     "output_type": "execute_result"
    },
    {
     "data": {
      "text/plain": [
       "[<matplotlib.lines.Line2D at 0x183af2d2ca0>]"
      ]
     },
     "execution_count": 72,
     "metadata": {},
     "output_type": "execute_result"
    },
    {
     "data": {
      "image/png": "[encoded data removed]",
      "text/plain": [
       "<Figure size 432x288 with 1 Axes>"
      ]
     },
     "metadata": {
      "needs_background": "light"
     },
     "output_type": "display_data"
    }
   ],
   "source": [
    "plt.plot(df9_reduced[\"Stage1.Output.Measurement9.U.Actual\"], \"r\")\n",
    "plt.plot(df9_reduced[\"Stage1.Output.Measurement9.U.Setpoint\"], \"b\")"
   ]
  },
  {
   "cell_type": "code",
   "execution_count": 73,
   "metadata": {},
   "outputs": [],
   "source": [
    "df9_indexed = df9_reduced.reset_index(drop = True)\n",
    "df9_indexed.to_csv(\"C:\\\\DataScience\\\\project\\\\continuous_factory_process\\\\Data1\\\\df9_indexed.csv\", index = False)"
   ]
  },
  {
   "cell_type": "markdown",
   "metadata": {},
   "source": [
    "## Stage1 output10"
   ]
  },
  {
   "cell_type": "code",
   "execution_count": 74,
   "metadata": {},
   "outputs": [],
   "source": [
    "df10 = df.copy()"
   ]
  },
  {
   "cell_type": "code",
   "execution_count": 75,
   "metadata": {},
   "outputs": [
    {
     "data": {
      "text/plain": [
       "[<matplotlib.lines.Line2D at 0x183af45c070>]"
      ]
     },
     "execution_count": 75,
     "metadata": {},
     "output_type": "execute_result"
    },
    {
     "data": {
      "text/plain": [
       "[<matplotlib.lines.Line2D at 0x183af45c460>]"
      ]
     },
     "execution_count": 75,
     "metadata": {},
     "output_type": "execute_result"
    },
    {
     "data": {
      "image/png": "[encoded data removed]",
      "text/plain": [
       "<Figure size 432x288 with 1 Axes>"
      ]
     },
     "metadata": {
      "needs_background": "light"
     },
     "output_type": "display_data"
    }
   ],
   "source": [
    "plt.plot(df10[\"Stage1.Output.Measurement10.U.Setpoint\"], \"b\")\n",
    "plt.plot(df10[\"Stage1.Output.Measurement10.U.Actual\"], \"r\")"
   ]
  },
  {
   "cell_type": "code",
   "execution_count": 76,
   "metadata": {},
   "outputs": [
    {
     "data": {
      "text/plain": [
       "[<matplotlib.lines.Line2D at 0x183af4bd280>]"
      ]
     },
     "execution_count": 76,
     "metadata": {},
     "output_type": "execute_result"
    },
    {
     "data": {
      "text/plain": [
       "[<matplotlib.lines.Line2D at 0x183af4bd610>]"
      ]
     },
     "execution_count": 76,
     "metadata": {},
     "output_type": "execute_result"
    },
    {
     "data": {
      "image/png": "[encoded data removed]",
      "text/plain": [
       "<Figure size 432x288 with 1 Axes>"
      ]
     },
     "metadata": {
      "needs_background": "light"
     },
     "output_type": "display_data"
    }
   ],
   "source": [
    "# 7미만 제거\n",
    "plt.plot(df10[\"Stage1.Output.Measurement10.U.Actual\"].loc[df10[\"Stage1.Output.Measurement10.U.Actual\"] > 7], \"r\")\n",
    "plt.plot(df10[\"Stage1.Output.Measurement10.U.Setpoint\"].loc[df10[\"Stage1.Output.Measurement10.U.Actual\"] > 7], \"b\")"
   ]
  },
  {
   "cell_type": "code",
   "execution_count": 77,
   "metadata": {},
   "outputs": [
    {
     "data": {
      "text/plain": [
       "[<matplotlib.lines.Line2D at 0x183af51e040>]"
      ]
     },
     "execution_count": 77,
     "metadata": {},
     "output_type": "execute_result"
    },
    {
     "data": {
      "text/plain": [
       "[<matplotlib.lines.Line2D at 0x183af51e3a0>]"
      ]
     },
     "execution_count": 77,
     "metadata": {},
     "output_type": "execute_result"
    },
    {
     "data": {
      "image/png": "[encoded data removed]",
      "text/plain": [
       "<Figure size 432x288 with 1 Axes>"
      ]
     },
     "metadata": {
      "needs_background": "light"
     },
     "output_type": "display_data"
    }
   ],
   "source": [
    "# 10초과 제거\n",
    "plt.plot(df10[\"Stage1.Output.Measurement10.U.Actual\"].loc[df10[\"Stage1.Output.Measurement10.U.Actual\"] < 10], \"r\")\n",
    "plt.plot(df10[\"Stage1.Output.Measurement10.U.Setpoint\"].loc[df10[\"Stage1.Output.Measurement10.U.Actual\"] < 10], \"b\")"
   ]
  },
  {
   "cell_type": "code",
   "execution_count": 78,
   "metadata": {},
   "outputs": [],
   "source": [
    "df10_reduced = df10.loc[(df10[\"Stage1.Output.Measurement10.U.Actual\"] > 7) & (df10[\"Stage1.Output.Measurement10.U.Actual\"] < 10)]"
   ]
  },
  {
   "cell_type": "code",
   "execution_count": 79,
   "metadata": {},
   "outputs": [],
   "source": [
    "df10_indexed = df10_reduced.reset_index(drop = True)\n",
    "df10_indexed.to_csv(\"C:\\\\DataScience\\\\project\\\\continuous_factory_process\\\\Data1\\\\df10_indexed.csv\", index = False)"
   ]
  },
  {
   "cell_type": "code",
   "execution_count": 80,
   "metadata": {},
   "outputs": [
    {
     "data": {
      "text/plain": [
       "[<matplotlib.lines.Line2D at 0x183b24f9310>]"
      ]
     },
     "execution_count": 80,
     "metadata": {},
     "output_type": "execute_result"
    },
    {
     "data": {
      "text/plain": [
       "[<matplotlib.lines.Line2D at 0x183b24f9790>]"
      ]
     },
     "execution_count": 80,
     "metadata": {},
     "output_type": "execute_result"
    },
    {
     "data": {
      "image/png": "[encoded data removed]",
      "text/plain": [
       "<Figure size 432x288 with 1 Axes>"
      ]
     },
     "metadata": {
      "needs_background": "light"
     },
     "output_type": "display_data"
    }
   ],
   "source": [
    "plt.plot(df10_reduced[\"Stage1.Output.Measurement10.U.Actual\"], \"r\")\n",
    "plt.plot(df10_reduced[\"Stage1.Output.Measurement10.U.Setpoint\"], \"b\")"
   ]
  },
  {
   "cell_type": "markdown",
   "metadata": {},
   "source": [
    "## Stage1 output11"
   ]
  },
  {
   "cell_type": "code",
   "execution_count": 81,
   "metadata": {},
   "outputs": [],
   "source": [
    "df11 = df.copy()"
   ]
  },
  {
   "cell_type": "code",
   "execution_count": 82,
   "metadata": {},
   "outputs": [
    {
     "data": {
      "text/plain": [
       "[<matplotlib.lines.Line2D at 0x183b50278b0>]"
      ]
     },
     "execution_count": 82,
     "metadata": {},
     "output_type": "execute_result"
    },
    {
     "data": {
      "text/plain": [
       "[<matplotlib.lines.Line2D at 0x183b5027d90>]"
      ]
     },
     "execution_count": 82,
     "metadata": {},
     "output_type": "execute_result"
    },
    {
     "data": {
      "image/png": "[encoded data removed]",
      "text/plain": [
       "<Figure size 432x288 with 1 Axes>"
      ]
     },
     "metadata": {
      "needs_background": "light"
     },
     "output_type": "display_data"
    }
   ],
   "source": [
    "plt.plot(df11[\"Stage1.Output.Measurement11.U.Setpoint\"], \"b\")\n",
    "plt.plot(df11[\"Stage1.Output.Measurement11.U.Actual\"], \"r\")"
   ]
  },
  {
   "cell_type": "markdown",
   "metadata": {},
   "source": [
    "???흠.."
   ]
  },
  {
   "cell_type": "markdown",
   "metadata": {},
   "source": [
    "## Stage1 output12"
   ]
  },
  {
   "cell_type": "code",
   "execution_count": 83,
   "metadata": {},
   "outputs": [],
   "source": [
    "df12 = df.copy()"
   ]
  },
  {
   "cell_type": "code",
   "execution_count": 84,
   "metadata": {},
   "outputs": [
    {
     "data": {
      "text/plain": [
       "[<matplotlib.lines.Line2D at 0x183b8857eb0>]"
      ]
     },
     "execution_count": 84,
     "metadata": {},
     "output_type": "execute_result"
    },
    {
     "data": {
      "text/plain": [
       "[<matplotlib.lines.Line2D at 0x183b8863340>]"
      ]
     },
     "execution_count": 84,
     "metadata": {},
     "output_type": "execute_result"
    },
    {
     "data": {
      "image/png": "[encoded data removed]",
      "text/plain": [
       "<Figure size 432x288 with 1 Axes>"
      ]
     },
     "metadata": {
      "needs_background": "light"
     },
     "output_type": "display_data"
    }
   ],
   "source": [
    "plt.plot(df12[\"Stage1.Output.Measurement12.U.Setpoint\"], \"b\")\n",
    "plt.plot(df12[\"Stage1.Output.Measurement12.U.Actual\"], \"r\")"
   ]
  },
  {
   "cell_type": "code",
   "execution_count": 85,
   "metadata": {},
   "outputs": [
    {
     "data": {
      "text/plain": [
       "[<matplotlib.lines.Line2D at 0x183b88c1730>]"
      ]
     },
     "execution_count": 85,
     "metadata": {},
     "output_type": "execute_result"
    },
    {
     "data": {
      "text/plain": [
       "[<matplotlib.lines.Line2D at 0x183b88c1b80>]"
      ]
     },
     "execution_count": 85,
     "metadata": {},
     "output_type": "execute_result"
    },
    {
     "data": {
      "image/png": "[encoded data removed]",
      "text/plain": [
       "<Figure size 432x288 with 1 Axes>"
      ]
     },
     "metadata": {
      "needs_background": "light"
     },
     "output_type": "display_data"
    }
   ],
   "source": [
    "#1미만제거\n",
    "plt.plot(df12[\"Stage1.Output.Measurement12.U.Actual\"].loc[df12[\"Stage1.Output.Measurement12.U.Actual\"] > 1], \"r\")\n",
    "plt.plot(df12[\"Stage1.Output.Measurement12.U.Setpoint\"].loc[df12[\"Stage1.Output.Measurement12.U.Actual\"] > 1], \"b\")"
   ]
  },
  {
   "cell_type": "code",
   "execution_count": 86,
   "metadata": {},
   "outputs": [
    {
     "data": {
      "text/plain": [
       "[<matplotlib.lines.Line2D at 0x183bfadcaf0>]"
      ]
     },
     "execution_count": 86,
     "metadata": {},
     "output_type": "execute_result"
    },
    {
     "data": {
      "text/plain": [
       "[<matplotlib.lines.Line2D at 0x183bfadce20>]"
      ]
     },
     "execution_count": 86,
     "metadata": {},
     "output_type": "execute_result"
    },
    {
     "data": {
      "image/png": "[encoded data removed]",
      "text/plain": [
       "<Figure size 432x288 with 1 Axes>"
      ]
     },
     "metadata": {
      "needs_background": "light"
     },
     "output_type": "display_data"
    }
   ],
   "source": [
    "# 2 초과제거\n",
    "plt.plot(df12[\"Stage1.Output.Measurement12.U.Actual\"].loc[df12[\"Stage1.Output.Measurement12.U.Actual\"] < 2], \"r\")\n",
    "plt.plot(df12[\"Stage1.Output.Measurement12.U.Setpoint\"].loc[df12[\"Stage1.Output.Measurement12.U.Actual\"] < 2], \"b\")"
   ]
  },
  {
   "cell_type": "code",
   "execution_count": 87,
   "metadata": {},
   "outputs": [],
   "source": [
    "df12_reduced = df12.loc[(df12[\"Stage1.Output.Measurement12.U.Actual\"] > 1.15) & (df12[\"Stage1.Output.Measurement12.U.Actual\"] < 2.5)]"
   ]
  },
  {
   "cell_type": "code",
   "execution_count": 88,
   "metadata": {},
   "outputs": [],
   "source": [
    "df12_indexed = df12_reduced.reset_index(drop = True)\n",
    "df12_indexed.to_csv(\"C:\\\\DataScience\\\\project\\\\continuous_factory_process\\\\Data1\\\\df12_indexed.csv\", index = False)"
   ]
  },
  {
   "cell_type": "code",
   "execution_count": 89,
   "metadata": {},
   "outputs": [
    {
     "data": {
      "text/plain": [
       "[<matplotlib.lines.Line2D at 0x183bfb44b50>]"
      ]
     },
     "execution_count": 89,
     "metadata": {},
     "output_type": "execute_result"
    },
    {
     "data": {
      "text/plain": [
       "[<matplotlib.lines.Line2D at 0x183bfb44f40>]"
      ]
     },
     "execution_count": 89,
     "metadata": {},
     "output_type": "execute_result"
    },
    {
     "data": {
      "image/png": "[encoded data removed]",
      "text/plain": [
       "<Figure size 432x288 with 1 Axes>"
      ]
     },
     "metadata": {
      "needs_background": "light"
     },
     "output_type": "display_data"
    }
   ],
   "source": [
    "plt.plot(df12_reduced[\"Stage1.Output.Measurement12.U.Actual\"], \"r\")\n",
    "plt.plot(df12_reduced[\"Stage1.Output.Measurement12.U.Setpoint\"], \"b\")"
   ]
  },
  {
   "cell_type": "markdown",
   "metadata": {},
   "source": [
    "## Stage1 output13"
   ]
  },
  {
   "cell_type": "code",
   "execution_count": 90,
   "metadata": {},
   "outputs": [],
   "source": [
    "df13 = df.copy()"
   ]
  },
  {
   "cell_type": "code",
   "execution_count": 91,
   "metadata": {},
   "outputs": [
    {
     "data": {
      "text/plain": [
       "[<matplotlib.lines.Line2D at 0x183acbc44f0>]"
      ]
     },
     "execution_count": 91,
     "metadata": {},
     "output_type": "execute_result"
    },
    {
     "data": {
      "text/plain": [
       "[<matplotlib.lines.Line2D at 0x183acc26070>]"
      ]
     },
     "execution_count": 91,
     "metadata": {},
     "output_type": "execute_result"
    },
    {
     "data": {
      "image/png": "[encoded data removed]",
      "text/plain": [
       "<Figure size 432x288 with 1 Axes>"
      ]
     },
     "metadata": {
      "needs_background": "light"
     },
     "output_type": "display_data"
    }
   ],
   "source": [
    "plt.plot(df13[\"Stage1.Output.Measurement13.U.Setpoint\"], \"b\")\n",
    "plt.plot(df13[\"Stage1.Output.Measurement13.U.Actual\"], \"r\")"
   ]
  },
  {
   "cell_type": "code",
   "execution_count": 92,
   "metadata": {},
   "outputs": [
    {
     "data": {
      "text/plain": [
       "[<matplotlib.lines.Line2D at 0x183af4d79d0>]"
      ]
     },
     "execution_count": 92,
     "metadata": {},
     "output_type": "execute_result"
    },
    {
     "data": {
      "text/plain": [
       "[<matplotlib.lines.Line2D at 0x183af4ca430>]"
      ]
     },
     "execution_count": 92,
     "metadata": {},
     "output_type": "execute_result"
    },
    {
     "data": {
      "image/png": "[encoded data removed]",
      "text/plain": [
       "<Figure size 432x288 with 1 Axes>"
      ]
     },
     "metadata": {
      "needs_background": "light"
     },
     "output_type": "display_data"
    }
   ],
   "source": [
    "#2.5미만제거\n",
    "plt.plot(df13[\"Stage1.Output.Measurement13.U.Actual\"].loc[df13[\"Stage1.Output.Measurement13.U.Actual\"] > 2.5], \"r\")\n",
    "plt.plot(df13[\"Stage1.Output.Measurement13.U.Setpoint\"].loc[df13[\"Stage1.Output.Measurement13.U.Actual\"] > 2.5], \"b\")"
   ]
  },
  {
   "cell_type": "code",
   "execution_count": 93,
   "metadata": {},
   "outputs": [
    {
     "data": {
      "text/plain": [
       "[<matplotlib.lines.Line2D at 0x183bf910eb0>]"
      ]
     },
     "execution_count": 93,
     "metadata": {},
     "output_type": "execute_result"
    },
    {
     "data": {
      "text/plain": [
       "[<matplotlib.lines.Line2D at 0x183bf91c280>]"
      ]
     },
     "execution_count": 93,
     "metadata": {},
     "output_type": "execute_result"
    },
    {
     "data": {
      "image/png": "[encoded data removed]",
      "text/plain": [
       "<Figure size 432x288 with 1 Axes>"
      ]
     },
     "metadata": {
      "needs_background": "light"
     },
     "output_type": "display_data"
    }
   ],
   "source": [
    "#3.9초과제거\n",
    "plt.plot(df13[\"Stage1.Output.Measurement13.U.Actual\"].loc[df13[\"Stage1.Output.Measurement13.U.Actual\"] < 3.9], \"r\")\n",
    "plt.plot(df13[\"Stage1.Output.Measurement13.U.Setpoint\"].loc[df13[\"Stage1.Output.Measurement13.U.Actual\"] < 3.9], \"b\")"
   ]
  },
  {
   "cell_type": "code",
   "execution_count": 94,
   "metadata": {},
   "outputs": [],
   "source": [
    "df13_reduced = df13.loc[(df13[\"Stage1.Output.Measurement13.U.Actual\"] > 2.5) & (df13[\"Stage1.Output.Measurement13.U.Actual\"] < 3.9)]"
   ]
  },
  {
   "cell_type": "code",
   "execution_count": 95,
   "metadata": {},
   "outputs": [],
   "source": [
    "df13_indexed = df13_reduced.reset_index(drop = True)\n",
    "df13_indexed.to_csv(\"C:\\\\DataScience\\\\project\\\\continuous_factory_process\\\\Data1\\\\df13_indexed.csv\", index = False)"
   ]
  },
  {
   "cell_type": "code",
   "execution_count": 96,
   "metadata": {},
   "outputs": [
    {
     "data": {
      "text/plain": [
       "[<matplotlib.lines.Line2D at 0x183af4e8c10>]"
      ]
     },
     "execution_count": 96,
     "metadata": {},
     "output_type": "execute_result"
    },
    {
     "data": {
      "text/plain": [
       "[<matplotlib.lines.Line2D at 0x183bf97db80>]"
      ]
     },
     "execution_count": 96,
     "metadata": {},
     "output_type": "execute_result"
    },
    {
     "data": {
      "image/png": "[encoded data removed]",
      "text/plain": [
       "<Figure size 432x288 with 1 Axes>"
      ]
     },
     "metadata": {
      "needs_background": "light"
     },
     "output_type": "display_data"
    }
   ],
   "source": [
    "plt.plot(df13_indexed[\"Stage1.Output.Measurement13.U.Actual\"], \"r\")\n",
    "plt.plot(df13_indexed[\"Stage1.Output.Measurement13.U.Setpoint\"], \"b\")"
   ]
  },
  {
   "cell_type": "markdown",
   "metadata": {},
   "source": [
    "## Stage1 output14"
   ]
  },
  {
   "cell_type": "code",
   "execution_count": 97,
   "metadata": {},
   "outputs": [],
   "source": [
    "df14 = df.copy()"
   ]
  },
  {
   "cell_type": "code",
   "execution_count": 98,
   "metadata": {},
   "outputs": [
    {
     "data": {
      "text/plain": [
       "[<matplotlib.lines.Line2D at 0x183bf9e01f0>]"
      ]
     },
     "execution_count": 98,
     "metadata": {},
     "output_type": "execute_result"
    },
    {
     "data": {
      "text/plain": [
       "[<matplotlib.lines.Line2D at 0x183bf9e0670>]"
      ]
     },
     "execution_count": 98,
     "metadata": {},
     "output_type": "execute_result"
    },
    {
     "data": {
      "image/png": "[encoded data removed]",
      "text/plain": [
       "<Figure size 432x288 with 1 Axes>"
      ]
     },
     "metadata": {
      "needs_background": "light"
     },
     "output_type": "display_data"
    }
   ],
   "source": [
    "plt.plot(df14[\"Stage1.Output.Measurement14.U.Setpoint\"], \"b\")\n",
    "plt.plot(df14[\"Stage1.Output.Measurement14.U.Actual\"], \"r\")"
   ]
  },
  {
   "cell_type": "code",
   "execution_count": 99,
   "metadata": {},
   "outputs": [
    {
     "data": {
      "text/plain": [
       "[<matplotlib.lines.Line2D at 0x183bfa35ee0>]"
      ]
     },
     "execution_count": 99,
     "metadata": {},
     "output_type": "execute_result"
    },
    {
     "data": {
      "text/plain": [
       "[<matplotlib.lines.Line2D at 0x183bfa422b0>]"
      ]
     },
     "execution_count": 99,
     "metadata": {},
     "output_type": "execute_result"
    },
    {
     "data": {
      "image/png": "[encoded data removed]",
      "text/plain": [
       "<Figure size 432x288 with 1 Axes>"
      ]
     },
     "metadata": {
      "needs_background": "light"
     },
     "output_type": "display_data"
    }
   ],
   "source": [
    "#13미만 데이터 제거\n",
    "plt.plot(df14[\"Stage1.Output.Measurement14.U.Actual\"].loc[df14[\"Stage1.Output.Measurement14.U.Actual\"] > 13], \"r\")\n",
    "plt.plot(df14[\"Stage1.Output.Measurement14.U.Setpoint\"].loc[df14[\"Stage1.Output.Measurement14.U.Actual\"] > 13], \"b\")"
   ]
  },
  {
   "cell_type": "code",
   "execution_count": 100,
   "metadata": {},
   "outputs": [
    {
     "data": {
      "text/plain": [
       "[<matplotlib.lines.Line2D at 0x183bfaa2760>]"
      ]
     },
     "execution_count": 100,
     "metadata": {},
     "output_type": "execute_result"
    },
    {
     "data": {
      "text/plain": [
       "[<matplotlib.lines.Line2D at 0x183bfaa2af0>]"
      ]
     },
     "execution_count": 100,
     "metadata": {},
     "output_type": "execute_result"
    },
    {
     "data": {
      "image/png": "[encoded data removed]",
      "text/plain": [
       "<Figure size 432x288 with 1 Axes>"
      ]
     },
     "metadata": {
      "needs_background": "light"
     },
     "output_type": "display_data"
    }
   ],
   "source": [
    "# 18.5 초과 데이터 제거 초과 데이터 제거\n",
    "plt.plot(df14[\"Stage1.Output.Measurement14.U.Actual\"].loc[df14[\"Stage1.Output.Measurement14.U.Actual\"] < 18.5], \"r\")\n",
    "plt.plot(df14[\"Stage1.Output.Measurement14.U.Setpoint\"].loc[df14[\"Stage1.Output.Measurement14.U.Actual\"] < 18.5], \"b\")"
   ]
  },
  {
   "cell_type": "code",
   "execution_count": 101,
   "metadata": {},
   "outputs": [],
   "source": [
    "df14_reduced = df14.loc[(df14[\"Stage1.Output.Measurement14.U.Actual\"] > 13) & (df14[\"Stage1.Output.Measurement14.U.Actual\"] < 18.5)]"
   ]
  },
  {
   "cell_type": "code",
   "execution_count": 102,
   "metadata": {},
   "outputs": [],
   "source": [
    "df14_indexed = df14_reduced.reset_index(drop = True)\n",
    "df14_indexed.to_csv(\"C:\\\\DataScience\\\\project\\\\continuous_factory_process\\\\Data1\\\\df14_indexed.csv\", index = False)"
   ]
  },
  {
   "cell_type": "code",
   "execution_count": 103,
   "metadata": {},
   "outputs": [
    {
     "data": {
      "text/plain": [
       "[<matplotlib.lines.Line2D at 0x183c155da00>]"
      ]
     },
     "execution_count": 103,
     "metadata": {},
     "output_type": "execute_result"
    },
    {
     "data": {
      "text/plain": [
       "[<matplotlib.lines.Line2D at 0x183c155dee0>]"
      ]
     },
     "execution_count": 103,
     "metadata": {},
     "output_type": "execute_result"
    },
    {
     "data": {
      "image/png": "[encoded data removed]",
      "text/plain": [
       "<Figure size 432x288 with 1 Axes>"
      ]
     },
     "metadata": {
      "needs_background": "light"
     },
     "output_type": "display_data"
    }
   ],
   "source": [
    "plt.plot(df14_indexed[\"Stage1.Output.Measurement14.U.Actual\"], \"r\")\n",
    "plt.plot(df14_indexed[\"Stage1.Output.Measurement14.U.Setpoint\"], \"b\")"
   ]
  },
  {
   "cell_type": "code",
   "execution_count": null,
   "metadata": {},
   "outputs": [],
   "source": []
  },
  {
   "cell_type": "code",
   "execution_count": null,
   "metadata": {},
   "outputs": [],
   "source": []
  },
  {
   "cell_type": "code",
   "execution_count": null,
   "metadata": {},
   "outputs": [],
   "source": []
  },
  {
   "cell_type": "code",
   "execution_count": null,
   "metadata": {},
   "outputs": [],
   "source": []
  },
  {
   "cell_type": "code",
   "execution_count": null,
   "metadata": {},
   "outputs": [],
   "source": []
  },
  {
   "cell_type": "code",
   "execution_count": null,
   "metadata": {},
   "outputs": [],
   "source": []
  },
  {
   "cell_type": "code",
   "execution_count": null,
   "metadata": {},
   "outputs": [],
   "source": []
  }
 ],
 "metadata": {
  "kernelspec": {
   "display_name": "Python 3",
   "language": "python",
   "name": "python3"
  },
  "language_info": {
   "codemirror_mode": {
    "name": "ipython",
    "version": 3
   },
   "file_extension": ".py",
   "mimetype": "text/x-python",
   "name": "python",
   "nbconvert_exporter": "python",
   "pygments_lexer": "ipython3",
   "version": "3.8.5"
  }
 },
 "nbformat": 4,
 "nbformat_minor": 4
}
